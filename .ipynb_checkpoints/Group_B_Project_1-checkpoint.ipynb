{
 "cells": [
  {
   "cell_type": "markdown",
   "id": "e19dcdc4-5e5a-408b-94a7-945c043c5e0f",
   "metadata": {},
   "source": [
    "# Project 1"
   ]
  },
  {
   "cell_type": "markdown",
   "id": "10c2a9b0-b9b8-459c-887e-620015fd9c44",
   "metadata": {},
   "source": [
    "Authored by Joshua Burrows and Maksim Nikiforov."
   ]
  },
  {
   "cell_type": "markdown",
   "id": "d2135c29-cc89-48e8-9e61-55050395b814",
   "metadata": {},
   "source": [
    "## Introduction"
   ]
  },
  {
   "cell_type": "code",
   "execution_count": null,
   "id": "bd1551f7-fab5-487d-9637-02a4e4530193",
   "metadata": {},
   "outputs": [],
   "source": []
  },
  {
   "cell_type": "code",
   "execution_count": null,
   "id": "c7bd2671-dd81-4d7d-98c5-d256e049f5da",
   "metadata": {},
   "outputs": [],
   "source": []
  },
  {
   "cell_type": "code",
   "execution_count": null,
   "id": "cdd18985-0afc-4594-bf00-2cf72943d26c",
   "metadata": {},
   "outputs": [],
   "source": []
  },
  {
   "cell_type": "markdown",
   "id": "5ec4c639-912e-4c49-90b9-a8e8dd868780",
   "metadata": {},
   "source": [
    "## Exploratory Data Analysis"
   ]
  },
  {
   "cell_type": "code",
   "execution_count": null,
   "id": "42cc7221-36c7-4dd8-a116-0175c449dd29",
   "metadata": {},
   "outputs": [],
   "source": []
  },
  {
   "cell_type": "code",
   "execution_count": null,
   "id": "ca9b26d7-20dc-4fb0-9f01-638f00718a7c",
   "metadata": {},
   "outputs": [],
   "source": []
  },
  {
   "cell_type": "code",
   "execution_count": null,
   "id": "0f128c61-89a1-41de-bf72-3188fa200a01",
   "metadata": {},
   "outputs": [],
   "source": []
  },
  {
   "cell_type": "markdown",
   "id": "552e64d3-c9c1-448c-9b80-4e93bf980a50",
   "metadata": {},
   "source": [
    "## Prediction of `selling_price`"
   ]
  },
  {
   "cell_type": "code",
   "execution_count": null,
   "id": "54006212-904b-4245-bffa-6a4aa258eb6b",
   "metadata": {},
   "outputs": [],
   "source": []
  },
  {
   "cell_type": "code",
   "execution_count": null,
   "id": "0338ab04-9771-4761-8e30-e169f1e10ef2",
   "metadata": {},
   "outputs": [],
   "source": []
  },
  {
   "cell_type": "code",
   "execution_count": null,
   "id": "6ff41395-5660-42a9-a37a-d0278f793dc3",
   "metadata": {},
   "outputs": [],
   "source": []
  },
  {
   "cell_type": "code",
   "execution_count": null,
   "id": "67526949-6490-481e-b6ac-bc209f547088",
   "metadata": {},
   "outputs": [],
   "source": []
  }
 ],
 "metadata": {
  "kernelspec": {
   "display_name": "Python 3 (ipykernel)",
   "language": "python",
   "name": "python3"
  },
  "language_info": {
   "codemirror_mode": {
    "name": "ipython",
    "version": 3
   },
   "file_extension": ".py",
   "mimetype": "text/x-python",
   "name": "python",
   "nbconvert_exporter": "python",
   "pygments_lexer": "ipython3",
   "version": "3.10.2"
  }
 },
 "nbformat": 4,
 "nbformat_minor": 5
}
