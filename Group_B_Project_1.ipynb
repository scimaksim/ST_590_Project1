{
 "cells": [
  {
   "cell_type": "markdown",
   "id": "e19dcdc4-5e5a-408b-94a7-945c043c5e0f",
   "metadata": {},
   "source": [
    "# <center>Project 1</center>"
   ]
  },
  {
   "cell_type": "markdown",
   "id": "10c2a9b0-b9b8-459c-887e-620015fd9c44",
   "metadata": {},
   "source": [
    "Authored by Joshua Burrows and Maksim Nikiforov."
   ]
  },
  {
   "cell_type": "markdown",
   "id": "d2135c29-cc89-48e8-9e61-55050395b814",
   "metadata": {},
   "source": [
    "## <center>1 Introduction</center>"
   ]
  },
  {
   "cell_type": "markdown",
   "id": "166aa04a-498c-4b45-b50a-067bf06ba8d6",
   "metadata": {},
   "source": [
    "The sections that follow explore data between the years 1988 and 2020 on 1061 used motorcycles, including their make and model, selling price, year of purchase, and their odometer reading. The [source](https://www.kaggle.com/nehalbirla/motorcycle-dataset?select=BIKE+DETAILS.csv) of the information is attributed to www.bikewale.com. The table below lists descriptions for all variables in the data.\n",
    "\n",
    "\n",
    "| Variable         | Description |    \n",
    "|--------------|-----------|\n",
    "| name | Make and model of the motorcycle |\n",
    "| selling_price | Price at which the seller is selling the motorcycle (in Indian rupees) | \n",
    "| year | The year in which the motorcycle was bought | \n",
    "| seller_type | Seller category (individual or a dealer) | \n",
    "| owner | Number of previous owners | \n",
    "| km_driven | Odometer reading | \n",
    "| ex_showroom_price | Showroom price of the motorcycle | \n",
    "\n"
   ]
  },
  {
   "cell_type": "markdown",
   "id": "ee59cb7d-a18d-4645-9936-a4b80dbe2a35",
   "metadata": {},
   "source": [
    "A preview of the data set is included for reference. Additionally, the following packages are used to read, summarize, and visualize the data:\n",
    "\n",
    "- [pandas](https://pandas.pydata.org/) - a \"fast, powerful, flexible and easy to use open source data analysis and manipulation tool\" that provides support for DataFrames and the `.read_csv()` method for ingestinv CSV files.\n",
    "- [matplotlib](https://matplotlib.org/) - a \"comprehensive library for creating static, animated, and interactive visualizations in Python\" that includes the `.pyplot` interface for creating scatter plots, box and whisker plots, bar plots, and other graphics.\n",
    "- [numpy](https://numpy.org/) - the \"fundamental package for scientific computing with Python\" with support for arrays, array manipulation, and mathematical summary methods.\n",
    "- [scipy](https://scipy.org/) - provides \"fundamental algorithms for scientific computing in Python\" and includes the `.stats` module for statistical functions. `scipy.stats.linregress` is used to corroborate the output of the linear least-squares regression of our user-defined functions."
   ]
  },
  {
   "cell_type": "code",
   "execution_count": 58,
   "id": "c7bd2671-dd81-4d7d-98c5-d256e049f5da",
   "metadata": {},
   "outputs": [
    {
     "data": {
      "text/html": [
       "<div>\n",
       "<style scoped>\n",
       "    .dataframe tbody tr th:only-of-type {\n",
       "        vertical-align: middle;\n",
       "    }\n",
       "\n",
       "    .dataframe tbody tr th {\n",
       "        vertical-align: top;\n",
       "    }\n",
       "\n",
       "    .dataframe thead th {\n",
       "        text-align: right;\n",
       "    }\n",
       "</style>\n",
       "<table border=\"1\" class=\"dataframe\">\n",
       "  <thead>\n",
       "    <tr style=\"text-align: right;\">\n",
       "      <th></th>\n",
       "      <th>name</th>\n",
       "      <th>selling_price</th>\n",
       "      <th>year</th>\n",
       "      <th>seller_type</th>\n",
       "      <th>owner</th>\n",
       "      <th>km_driven</th>\n",
       "      <th>ex_showroom_price</th>\n",
       "    </tr>\n",
       "  </thead>\n",
       "  <tbody>\n",
       "    <tr>\n",
       "      <th>0</th>\n",
       "      <td>Royal Enfield Classic 350</td>\n",
       "      <td>175000</td>\n",
       "      <td>2019</td>\n",
       "      <td>Individual</td>\n",
       "      <td>1st owner</td>\n",
       "      <td>350</td>\n",
       "      <td>NaN</td>\n",
       "    </tr>\n",
       "    <tr>\n",
       "      <th>1</th>\n",
       "      <td>Honda Dio</td>\n",
       "      <td>45000</td>\n",
       "      <td>2017</td>\n",
       "      <td>Individual</td>\n",
       "      <td>1st owner</td>\n",
       "      <td>5650</td>\n",
       "      <td>NaN</td>\n",
       "    </tr>\n",
       "    <tr>\n",
       "      <th>2</th>\n",
       "      <td>Royal Enfield Classic Gunmetal Grey</td>\n",
       "      <td>150000</td>\n",
       "      <td>2018</td>\n",
       "      <td>Individual</td>\n",
       "      <td>1st owner</td>\n",
       "      <td>12000</td>\n",
       "      <td>148114.0</td>\n",
       "    </tr>\n",
       "    <tr>\n",
       "      <th>3</th>\n",
       "      <td>Yamaha Fazer FI V 2.0 [2016-2018]</td>\n",
       "      <td>65000</td>\n",
       "      <td>2015</td>\n",
       "      <td>Individual</td>\n",
       "      <td>1st owner</td>\n",
       "      <td>23000</td>\n",
       "      <td>89643.0</td>\n",
       "    </tr>\n",
       "    <tr>\n",
       "      <th>4</th>\n",
       "      <td>Yamaha SZ [2013-2014]</td>\n",
       "      <td>20000</td>\n",
       "      <td>2011</td>\n",
       "      <td>Individual</td>\n",
       "      <td>2nd owner</td>\n",
       "      <td>21000</td>\n",
       "      <td>NaN</td>\n",
       "    </tr>\n",
       "  </tbody>\n",
       "</table>\n",
       "</div>"
      ],
      "text/plain": [
       "                                  name  selling_price  year seller_type  \\\n",
       "0            Royal Enfield Classic 350         175000  2019  Individual   \n",
       "1                            Honda Dio          45000  2017  Individual   \n",
       "2  Royal Enfield Classic Gunmetal Grey         150000  2018  Individual   \n",
       "3    Yamaha Fazer FI V 2.0 [2016-2018]          65000  2015  Individual   \n",
       "4                Yamaha SZ [2013-2014]          20000  2011  Individual   \n",
       "\n",
       "       owner  km_driven  ex_showroom_price  \n",
       "0  1st owner        350                NaN  \n",
       "1  1st owner       5650                NaN  \n",
       "2  1st owner      12000           148114.0  \n",
       "3  1st owner      23000            89643.0  \n",
       "4  2nd owner      21000                NaN  "
      ]
     },
     "execution_count": 58,
     "metadata": {},
     "output_type": "execute_result"
    }
   ],
   "source": [
    "import pandas as pd\n",
    "import matplotlib.pyplot as plt\n",
    "import numpy as np\n",
    "import scipy.stats as stats\n",
    "\n",
    "# Read in the data\n",
    "bike_data = pd.read_csv(\"bikeDetails.csv\")\n",
    "\n",
    "# Convert categorical variables to type \"category\"\n",
    "bike_data.seller_type = bike_data.seller_type.astype(\"category\")\n",
    "bike_data.owner = bike_data.owner.astype(\"category\")\n",
    "\n",
    "# Display a small snippet of the data\n",
    "bike_data.head()"
   ]
  },
  {
   "cell_type": "markdown",
   "id": "53d99eb1-631b-4919-86ef-7200be178e22",
   "metadata": {},
   "source": [
    "Section 2 provides descriptive statistics for the data, such as measures of central tendency, as well as visualizations for the distribution of observations. Section 3 explores ways to predict price for a motorcycle based on its odometer reading. This section also includes custom function definitions to yield such predictions and summarizes how two numerical methods - grid search and gradient descent - help gauge their quality. "
   ]
  },
  {
   "cell_type": "markdown",
   "id": "5ec4c639-912e-4c49-90b9-a8e8dd868780",
   "metadata": {},
   "source": [
    "## <center>2 Exploratory Data Analysis</center>\n",
    "### <center>2.1 Numeric Summaries</center>"
   ]
  },
  {
   "cell_type": "markdown",
   "id": "f2d947f1-a0a0-47e7-81bb-f664de638bf9",
   "metadata": {},
   "source": [
    "Our data contains observations on 1061 motorcycles. "
   ]
  },
  {
   "cell_type": "code",
   "execution_count": 59,
   "id": "ab32735e-d243-4bc6-af9b-358f9abd89df",
   "metadata": {},
   "outputs": [
    {
     "data": {
      "text/plain": [
       "(1061, 7)"
      ]
     },
     "execution_count": 59,
     "metadata": {},
     "output_type": "execute_result"
    }
   ],
   "source": [
    "# View the number of rows and columns in our data frame\n",
    "bike_data.shape"
   ]
  },
  {
   "cell_type": "markdown",
   "id": "425c308b-e22d-4685-a2dc-2c21b230512f",
   "metadata": {},
   "source": [
    "Showroom prices are only available for 626 motorcycles and is missing for the remaining 435, as designated by the `NaN` marker. Note that the _pandas_ `.describe()` method for descriptive statistics excludes `NaN` values from its summaries. \n",
    "\n",
    "The median, indicated as the 50 percentile, is lower than the mean for all three of our numeric columns, indicating that our distribution of data is right-skewed. "
   ]
  },
  {
   "cell_type": "code",
   "execution_count": 60,
   "id": "5b4aa762-6542-461b-b9cf-a7fc586cb4a4",
   "metadata": {},
   "outputs": [
    {
     "data": {
      "text/html": [
       "<div>\n",
       "<style scoped>\n",
       "    .dataframe tbody tr th:only-of-type {\n",
       "        vertical-align: middle;\n",
       "    }\n",
       "\n",
       "    .dataframe tbody tr th {\n",
       "        vertical-align: top;\n",
       "    }\n",
       "\n",
       "    .dataframe thead th {\n",
       "        text-align: right;\n",
       "    }\n",
       "</style>\n",
       "<table border=\"1\" class=\"dataframe\">\n",
       "  <thead>\n",
       "    <tr style=\"text-align: right;\">\n",
       "      <th></th>\n",
       "      <th>selling_price</th>\n",
       "      <th>km_driven</th>\n",
       "      <th>ex_showroom_price</th>\n",
       "    </tr>\n",
       "  </thead>\n",
       "  <tbody>\n",
       "    <tr>\n",
       "      <th>count</th>\n",
       "      <td>1061.0</td>\n",
       "      <td>1061.0</td>\n",
       "      <td>626.0</td>\n",
       "    </tr>\n",
       "    <tr>\n",
       "      <th>mean</th>\n",
       "      <td>59638.2</td>\n",
       "      <td>34359.8</td>\n",
       "      <td>87958.7</td>\n",
       "    </tr>\n",
       "    <tr>\n",
       "      <th>std</th>\n",
       "      <td>56304.3</td>\n",
       "      <td>51623.2</td>\n",
       "      <td>77496.6</td>\n",
       "    </tr>\n",
       "    <tr>\n",
       "      <th>min</th>\n",
       "      <td>5000.0</td>\n",
       "      <td>350.0</td>\n",
       "      <td>30490.0</td>\n",
       "    </tr>\n",
       "    <tr>\n",
       "      <th>25%</th>\n",
       "      <td>28000.0</td>\n",
       "      <td>13500.0</td>\n",
       "      <td>54852.0</td>\n",
       "    </tr>\n",
       "    <tr>\n",
       "      <th>50%</th>\n",
       "      <td>45000.0</td>\n",
       "      <td>25000.0</td>\n",
       "      <td>72752.5</td>\n",
       "    </tr>\n",
       "    <tr>\n",
       "      <th>75%</th>\n",
       "      <td>70000.0</td>\n",
       "      <td>43000.0</td>\n",
       "      <td>87031.5</td>\n",
       "    </tr>\n",
       "    <tr>\n",
       "      <th>max</th>\n",
       "      <td>760000.0</td>\n",
       "      <td>880000.0</td>\n",
       "      <td>1278000.0</td>\n",
       "    </tr>\n",
       "  </tbody>\n",
       "</table>\n",
       "</div>"
      ],
      "text/plain": [
       "       selling_price  km_driven  ex_showroom_price\n",
       "count         1061.0     1061.0              626.0\n",
       "mean         59638.2    34359.8            87958.7\n",
       "std          56304.3    51623.2            77496.6\n",
       "min           5000.0      350.0            30490.0\n",
       "25%          28000.0    13500.0            54852.0\n",
       "50%          45000.0    25000.0            72752.5\n",
       "75%          70000.0    43000.0            87031.5\n",
       "max         760000.0   880000.0          1278000.0"
      ]
     },
     "execution_count": 60,
     "metadata": {},
     "output_type": "execute_result"
    }
   ],
   "source": [
    "# Provide descriptive statistics for numerical columns (excluding \"year\") \n",
    "num_vars = bike_data[[\"selling_price\", \"km_driven\", \"ex_showroom_price\"]]\n",
    "num_vars.describe().round(1)"
   ]
  },
  {
   "cell_type": "markdown",
   "id": "0c5fb17f-ac87-42b3-89bf-aedc161d9699",
   "metadata": {},
   "source": [
    "When we group information by the year in which motorcycles were bought, we find that the years 2014-2019 had the most motorcycle sales. In the table below, selling prices for the years prior to 2005 are excluded because, in six of those years, data is available for only one motorcycle sale and the median conveys little meaning. In the remaining years, data is available for fewer than seven motorcycle sales."
   ]
  },
  {
   "cell_type": "code",
   "execution_count": 61,
   "id": "86a3da83-6758-450f-b95d-9cb3e3a6b528",
   "metadata": {},
   "outputs": [
    {
     "data": {
      "text/html": [
       "<div>\n",
       "<style scoped>\n",
       "    .dataframe tbody tr th:only-of-type {\n",
       "        vertical-align: middle;\n",
       "    }\n",
       "\n",
       "    .dataframe tbody tr th {\n",
       "        vertical-align: top;\n",
       "    }\n",
       "\n",
       "    .dataframe thead th {\n",
       "        text-align: right;\n",
       "    }\n",
       "</style>\n",
       "<table border=\"1\" class=\"dataframe\">\n",
       "  <thead>\n",
       "    <tr style=\"text-align: right;\">\n",
       "      <th></th>\n",
       "      <th>max_selling_price</th>\n",
       "      <th>min_selling_price</th>\n",
       "      <th>median_selling_price</th>\n",
       "      <th>standard_dev</th>\n",
       "      <th>num_sold</th>\n",
       "    </tr>\n",
       "    <tr>\n",
       "      <th>year</th>\n",
       "      <th></th>\n",
       "      <th></th>\n",
       "      <th></th>\n",
       "      <th></th>\n",
       "      <th></th>\n",
       "    </tr>\n",
       "  </thead>\n",
       "  <tbody>\n",
       "    <tr>\n",
       "      <th>2020</th>\n",
       "      <td>190000</td>\n",
       "      <td>175000</td>\n",
       "      <td>185000.0</td>\n",
       "      <td>7637.6</td>\n",
       "      <td>3</td>\n",
       "    </tr>\n",
       "    <tr>\n",
       "      <th>2019</th>\n",
       "      <td>760000</td>\n",
       "      <td>40000</td>\n",
       "      <td>89999.5</td>\n",
       "      <td>96703.4</td>\n",
       "      <td>86</td>\n",
       "    </tr>\n",
       "    <tr>\n",
       "      <th>2018</th>\n",
       "      <td>300000</td>\n",
       "      <td>30000</td>\n",
       "      <td>75000.0</td>\n",
       "      <td>46394.5</td>\n",
       "      <td>131</td>\n",
       "    </tr>\n",
       "    <tr>\n",
       "      <th>2017</th>\n",
       "      <td>425000</td>\n",
       "      <td>18000</td>\n",
       "      <td>60000.0</td>\n",
       "      <td>50627.9</td>\n",
       "      <td>133</td>\n",
       "    </tr>\n",
       "    <tr>\n",
       "      <th>2016</th>\n",
       "      <td>300000</td>\n",
       "      <td>23000</td>\n",
       "      <td>50000.0</td>\n",
       "      <td>36006.2</td>\n",
       "      <td>107</td>\n",
       "    </tr>\n",
       "    <tr>\n",
       "      <th>2015</th>\n",
       "      <td>185000</td>\n",
       "      <td>20000</td>\n",
       "      <td>45000.0</td>\n",
       "      <td>35627.3</td>\n",
       "      <td>100</td>\n",
       "    </tr>\n",
       "    <tr>\n",
       "      <th>2014</th>\n",
       "      <td>330000</td>\n",
       "      <td>15000</td>\n",
       "      <td>40000.0</td>\n",
       "      <td>36973.1</td>\n",
       "      <td>91</td>\n",
       "    </tr>\n",
       "    <tr>\n",
       "      <th>2013</th>\n",
       "      <td>750000</td>\n",
       "      <td>15000</td>\n",
       "      <td>35000.0</td>\n",
       "      <td>85138.2</td>\n",
       "      <td>73</td>\n",
       "    </tr>\n",
       "    <tr>\n",
       "      <th>2012</th>\n",
       "      <td>100000</td>\n",
       "      <td>12000</td>\n",
       "      <td>30000.0</td>\n",
       "      <td>19431.2</td>\n",
       "      <td>70</td>\n",
       "    </tr>\n",
       "    <tr>\n",
       "      <th>2011</th>\n",
       "      <td>300000</td>\n",
       "      <td>15000</td>\n",
       "      <td>28000.0</td>\n",
       "      <td>37992.1</td>\n",
       "      <td>61</td>\n",
       "    </tr>\n",
       "    <tr>\n",
       "      <th>2010</th>\n",
       "      <td>125000</td>\n",
       "      <td>15000</td>\n",
       "      <td>25000.0</td>\n",
       "      <td>19387.3</td>\n",
       "      <td>60</td>\n",
       "    </tr>\n",
       "    <tr>\n",
       "      <th>2009</th>\n",
       "      <td>40000</td>\n",
       "      <td>7500</td>\n",
       "      <td>21500.0</td>\n",
       "      <td>8009.8</td>\n",
       "      <td>28</td>\n",
       "    </tr>\n",
       "    <tr>\n",
       "      <th>2008</th>\n",
       "      <td>180000</td>\n",
       "      <td>10000</td>\n",
       "      <td>25000.0</td>\n",
       "      <td>35197.3</td>\n",
       "      <td>28</td>\n",
       "    </tr>\n",
       "    <tr>\n",
       "      <th>2007</th>\n",
       "      <td>90000</td>\n",
       "      <td>10000</td>\n",
       "      <td>20000.0</td>\n",
       "      <td>17637.1</td>\n",
       "      <td>29</td>\n",
       "    </tr>\n",
       "    <tr>\n",
       "      <th>2006</th>\n",
       "      <td>99000</td>\n",
       "      <td>6000</td>\n",
       "      <td>18800.0</td>\n",
       "      <td>20824.2</td>\n",
       "      <td>20</td>\n",
       "    </tr>\n",
       "    <tr>\n",
       "      <th>2005</th>\n",
       "      <td>59000</td>\n",
       "      <td>8000</td>\n",
       "      <td>14850.0</td>\n",
       "      <td>12804.1</td>\n",
       "      <td>14</td>\n",
       "    </tr>\n",
       "  </tbody>\n",
       "</table>\n",
       "</div>"
      ],
      "text/plain": [
       "      max_selling_price  min_selling_price  median_selling_price  \\\n",
       "year                                                               \n",
       "2020             190000             175000              185000.0   \n",
       "2019             760000              40000               89999.5   \n",
       "2018             300000              30000               75000.0   \n",
       "2017             425000              18000               60000.0   \n",
       "2016             300000              23000               50000.0   \n",
       "2015             185000              20000               45000.0   \n",
       "2014             330000              15000               40000.0   \n",
       "2013             750000              15000               35000.0   \n",
       "2012             100000              12000               30000.0   \n",
       "2011             300000              15000               28000.0   \n",
       "2010             125000              15000               25000.0   \n",
       "2009              40000               7500               21500.0   \n",
       "2008             180000              10000               25000.0   \n",
       "2007              90000              10000               20000.0   \n",
       "2006              99000               6000               18800.0   \n",
       "2005              59000               8000               14850.0   \n",
       "\n",
       "      standard_dev  num_sold  \n",
       "year                          \n",
       "2020        7637.6         3  \n",
       "2019       96703.4        86  \n",
       "2018       46394.5       131  \n",
       "2017       50627.9       133  \n",
       "2016       36006.2       107  \n",
       "2015       35627.3       100  \n",
       "2014       36973.1        91  \n",
       "2013       85138.2        73  \n",
       "2012       19431.2        70  \n",
       "2011       37992.1        61  \n",
       "2010       19387.3        60  \n",
       "2009        8009.8        28  \n",
       "2008       35197.3        28  \n",
       "2007       17637.1        29  \n",
       "2006       20824.2        20  \n",
       "2005       12804.1        14  "
      ]
     },
     "execution_count": 61,
     "metadata": {},
     "output_type": "execute_result"
    }
   ],
   "source": [
    "# Create numeric summaries for selling_price and group by year\n",
    "annual_num_summaries = bike_data \\\n",
    ".groupby(\"year\") \\\n",
    ".agg(\n",
    "    max_selling_price = (\"selling_price\", max), \n",
    "    min_selling_price = (\"selling_price\", min),\n",
    "    median_selling_price = (\"selling_price\", np.median),\n",
    "    standard_dev = (\"selling_price\", np.std)\n",
    ")\n",
    "\n",
    "# Identify number of motorcycles sold every year\n",
    "num_sold = bike_data[[\"year\", \"name\"]].groupby(\"year\").count().sort_values(by=\"year\", ascending=False)\n",
    "\n",
    "# Merge number of motorcycles sold every year into our summaries data frame\n",
    "annual_num_summaries[\"num_sold\"] = num_sold[\"name\"]\n",
    "\n",
    "# Display numeric summaries for the last 10 years while rounding standard deviation\n",
    "annual_summaries = annual_num_summaries.sort_values(by=\"year\", ascending=False).head(16).round(1)\n",
    "annual_summaries"
   ]
  },
  {
   "cell_type": "markdown",
   "id": "c382e3d9-5ac2-4006-9094-a45390b0316f",
   "metadata": {},
   "source": [
    "There is a general increase in the median selling price between 2005 and 2020. This increase can be visualized with the line plot below. The data set includes information on only 3 sales in 2020, and the minimum selling price of 175000 (nearly double the median in 2019) results in a spike in the plot.   "
   ]
  },
  {
   "cell_type": "code",
   "execution_count": 62,
   "id": "23135d3c-7dc4-46db-b699-de15e7fa9dcc",
   "metadata": {},
   "outputs": [
    {
     "data": {
      "image/png": "[encoded data removed]",
      "text/plain": [
       "<Figure size 432x288 with 1 Axes>"
      ]
     },
     "metadata": {
      "needs_background": "light"
     },
     "output_type": "display_data"
    }
   ],
   "source": [
    "annual_summaries.plot.line(y=\"median_selling_price\")\n",
    "plt.title(\"Change in Median Selling Price of Used Motorcycles\\n Bought Between 2005 and 2020\")\n",
    "plt.ylabel(\"Median Selling Price (Indian Rupees)\")\n",
    "plt.xlabel(\"Year\")\n",
    "plt.yticks(ticks = [25000, 50000, 75000, 100000, 125000, 150000, 175000],\n",
    "           labels = [\"25k\", \"50k\", \"75k\", \"100k\", \"125k\", \"150k\", \"175k\"])\n",
    "plt.legend([\"Median Selling Price\"])\n",
    "plt.show()"
   ]
  },
  {
   "cell_type": "markdown",
   "id": "bb1c4089-e3c5-425e-bc85-0762c892f228",
   "metadata": {},
   "source": [
    "Two motorcycles in the data set - the Suzuki GSX S750 and the Harley-Davidson Street Bob - are priced at more than double the value of the next most-expensive motorcycle, the Yamaha YZF R3. The Suzuki model and the Yamaha model both have particularly low odometer readings of 2800 kilometers and 1127 kilometers, respectively.  "
   ]
  },
  {
   "cell_type": "code",
   "execution_count": 63,
   "id": "87596308-08d1-41a6-8d67-cdc6f3e9402c",
   "metadata": {},
   "outputs": [
    {
     "data": {
      "text/html": [
       "<div>\n",
       "<style scoped>\n",
       "    .dataframe tbody tr th:only-of-type {\n",
       "        vertical-align: middle;\n",
       "    }\n",
       "\n",
       "    .dataframe tbody tr th {\n",
       "        vertical-align: top;\n",
       "    }\n",
       "\n",
       "    .dataframe thead th {\n",
       "        text-align: right;\n",
       "    }\n",
       "</style>\n",
       "<table border=\"1\" class=\"dataframe\">\n",
       "  <thead>\n",
       "    <tr style=\"text-align: right;\">\n",
       "      <th></th>\n",
       "      <th>mean_selling_price</th>\n",
       "      <th>mean_km_driven</th>\n",
       "      <th>num_sold</th>\n",
       "    </tr>\n",
       "    <tr>\n",
       "      <th>name</th>\n",
       "      <th></th>\n",
       "      <th></th>\n",
       "      <th></th>\n",
       "    </tr>\n",
       "  </thead>\n",
       "  <tbody>\n",
       "    <tr>\n",
       "      <th>Suzuki GSX S750</th>\n",
       "      <td>760000.0</td>\n",
       "      <td>2800.0</td>\n",
       "      <td>1</td>\n",
       "    </tr>\n",
       "    <tr>\n",
       "      <th>Harley-Davidson Street Bob</th>\n",
       "      <td>750000.0</td>\n",
       "      <td>12000.0</td>\n",
       "      <td>1</td>\n",
       "    </tr>\n",
       "    <tr>\n",
       "      <th>Yamaha YZF R3</th>\n",
       "      <td>365000.0</td>\n",
       "      <td>1127.0</td>\n",
       "      <td>1</td>\n",
       "    </tr>\n",
       "    <tr>\n",
       "      <th>Kawasaki Ninja 650 [2018-2019]</th>\n",
       "      <td>362500.0</td>\n",
       "      <td>12800.0</td>\n",
       "      <td>2</td>\n",
       "    </tr>\n",
       "    <tr>\n",
       "      <th>Harley-Davidson Street 750</th>\n",
       "      <td>330000.0</td>\n",
       "      <td>6500.0</td>\n",
       "      <td>1</td>\n",
       "    </tr>\n",
       "    <tr>\n",
       "      <th>Kawasaki Ninja 300</th>\n",
       "      <td>300000.0</td>\n",
       "      <td>9800.0</td>\n",
       "      <td>1</td>\n",
       "    </tr>\n",
       "    <tr>\n",
       "      <th>BMW G310GS</th>\n",
       "      <td>300000.0</td>\n",
       "      <td>2500.0</td>\n",
       "      <td>1</td>\n",
       "    </tr>\n",
       "    <tr>\n",
       "      <th>Royal Enfield Continental GT 650</th>\n",
       "      <td>299000.0</td>\n",
       "      <td>1500.0</td>\n",
       "      <td>1</td>\n",
       "    </tr>\n",
       "    <tr>\n",
       "      <th>Royal Enfield Interceptor 650</th>\n",
       "      <td>271667.0</td>\n",
       "      <td>5233.0</td>\n",
       "      <td>3</td>\n",
       "    </tr>\n",
       "    <tr>\n",
       "      <th>KTM RC 390</th>\n",
       "      <td>220000.0</td>\n",
       "      <td>6052.0</td>\n",
       "      <td>3</td>\n",
       "    </tr>\n",
       "  </tbody>\n",
       "</table>\n",
       "</div>"
      ],
      "text/plain": [
       "                                  mean_selling_price  mean_km_driven  num_sold\n",
       "name                                                                          \n",
       "Suzuki GSX S750                             760000.0          2800.0         1\n",
       "Harley-Davidson Street Bob                  750000.0         12000.0         1\n",
       "Yamaha YZF R3                               365000.0          1127.0         1\n",
       "Kawasaki Ninja 650 [2018-2019]              362500.0         12800.0         2\n",
       "Harley-Davidson Street 750                  330000.0          6500.0         1\n",
       "Kawasaki Ninja 300                          300000.0          9800.0         1\n",
       "BMW G310GS                                  300000.0          2500.0         1\n",
       "Royal Enfield Continental GT 650            299000.0          1500.0         1\n",
       "Royal Enfield Interceptor 650               271667.0          5233.0         3\n",
       "KTM RC 390                                  220000.0          6052.0         3"
      ]
     },
     "execution_count": 63,
     "metadata": {},
     "output_type": "execute_result"
    }
   ],
   "source": [
    "# Create average price and km summaries for motorcycles\n",
    "highest_lowest_selling = bike_data \\\n",
    ".groupby(\"name\") \\\n",
    ".agg(\n",
    "    mean_selling_price = (\"selling_price\", np.mean),\n",
    "    mean_km_driven = (\"km_driven\", np.mean)\n",
    ")\n",
    "\n",
    "# Count number of sales for each make and model\n",
    "names_sold = bike_data \\\n",
    ".groupby(\"name\").count()\n",
    "\n",
    "# Merge number of sales into price and km data frame\n",
    "highest_lowest_selling[\"num_sold\"] = names_sold[\"selling_price\"]\n",
    "\n",
    "# Show top 10 highest-priced motorcyles\n",
    "highest_lowest_selling.sort_values(by=\"mean_selling_price\", ascending=False).head(10).round(0)"
   ]
  },
  {
   "cell_type": "markdown",
   "id": "c047276c-fee8-48af-adec-703babfb56ce",
   "metadata": {},
   "source": [
    "Four of the ten lowest-priced motorcycles, averaging just under 10,000 Indian rupees, were manufactured by Hero Honda, with the Hero Honda CD100SS having 646,000 km on its odometer. The remaining motorcycles in the list were manufactured by the TVS Motor Company or by Bajaj. "
   ]
  },
  {
   "cell_type": "code",
   "execution_count": 64,
   "id": "852f111c-525f-4a7f-937a-3911cf88316f",
   "metadata": {},
   "outputs": [
    {
     "data": {
      "text/html": [
       "<div>\n",
       "<style scoped>\n",
       "    .dataframe tbody tr th:only-of-type {\n",
       "        vertical-align: middle;\n",
       "    }\n",
       "\n",
       "    .dataframe tbody tr th {\n",
       "        vertical-align: top;\n",
       "    }\n",
       "\n",
       "    .dataframe thead th {\n",
       "        text-align: right;\n",
       "    }\n",
       "</style>\n",
       "<table border=\"1\" class=\"dataframe\">\n",
       "  <thead>\n",
       "    <tr style=\"text-align: right;\">\n",
       "      <th></th>\n",
       "      <th>mean_selling_price</th>\n",
       "      <th>mean_km_driven</th>\n",
       "      <th>num_sold</th>\n",
       "    </tr>\n",
       "    <tr>\n",
       "      <th>name</th>\n",
       "      <th></th>\n",
       "      <th></th>\n",
       "      <th></th>\n",
       "    </tr>\n",
       "  </thead>\n",
       "  <tbody>\n",
       "    <tr>\n",
       "      <th>TVS Excel</th>\n",
       "      <td>5000.0</td>\n",
       "      <td>60000.0</td>\n",
       "      <td>1</td>\n",
       "    </tr>\n",
       "    <tr>\n",
       "      <th>Hero Honda Passion</th>\n",
       "      <td>9000.0</td>\n",
       "      <td>66191.0</td>\n",
       "      <td>1</td>\n",
       "    </tr>\n",
       "    <tr>\n",
       "      <th>Hero Honda CD100SS</th>\n",
       "      <td>10000.0</td>\n",
       "      <td>646000.0</td>\n",
       "      <td>1</td>\n",
       "    </tr>\n",
       "    <tr>\n",
       "      <th>Hero Honda CBZ</th>\n",
       "      <td>10000.0</td>\n",
       "      <td>48000.0</td>\n",
       "      <td>1</td>\n",
       "    </tr>\n",
       "    <tr>\n",
       "      <th>TVS Centra</th>\n",
       "      <td>10000.0</td>\n",
       "      <td>50000.0</td>\n",
       "      <td>1</td>\n",
       "    </tr>\n",
       "    <tr>\n",
       "      <th>Hero Honda Street Smart</th>\n",
       "      <td>10000.0</td>\n",
       "      <td>24000.0</td>\n",
       "      <td>1</td>\n",
       "    </tr>\n",
       "    <tr>\n",
       "      <th>Bajaj Boxer</th>\n",
       "      <td>12333.0</td>\n",
       "      <td>21833.0</td>\n",
       "      <td>3</td>\n",
       "    </tr>\n",
       "    <tr>\n",
       "      <th>Bajaj Super</th>\n",
       "      <td>13000.0</td>\n",
       "      <td>28000.0</td>\n",
       "      <td>2</td>\n",
       "    </tr>\n",
       "    <tr>\n",
       "      <th>TVS Scooty Pep DLX</th>\n",
       "      <td>14500.0</td>\n",
       "      <td>44000.0</td>\n",
       "      <td>1</td>\n",
       "    </tr>\n",
       "    <tr>\n",
       "      <th>TVS Flame</th>\n",
       "      <td>15000.0</td>\n",
       "      <td>12000.0</td>\n",
       "      <td>1</td>\n",
       "    </tr>\n",
       "  </tbody>\n",
       "</table>\n",
       "</div>"
      ],
      "text/plain": [
       "                         mean_selling_price  mean_km_driven  num_sold\n",
       "name                                                                 \n",
       "TVS Excel                            5000.0         60000.0         1\n",
       "Hero Honda Passion                   9000.0         66191.0         1\n",
       "Hero Honda CD100SS                  10000.0        646000.0         1\n",
       "Hero Honda CBZ                      10000.0         48000.0         1\n",
       "TVS Centra                          10000.0         50000.0         1\n",
       "Hero Honda Street Smart             10000.0         24000.0         1\n",
       "Bajaj Boxer                         12333.0         21833.0         3\n",
       "Bajaj Super                         13000.0         28000.0         2\n",
       "TVS Scooty Pep DLX                  14500.0         44000.0         1\n",
       "TVS Flame                           15000.0         12000.0         1"
      ]
     },
     "execution_count": 64,
     "metadata": {},
     "output_type": "execute_result"
    }
   ],
   "source": [
    "# Show top 10 lowest-priced motorcyles\n",
    "highest_lowest_selling.sort_values(by=\"mean_selling_price\", ascending=True).head(10).round(0)"
   ]
  },
  {
   "cell_type": "markdown",
   "id": "915364e8-b40a-4d60-a66c-9dcb4d33d202",
   "metadata": {},
   "source": [
    "### <center>2.2 Scatter Plots</center>"
   ]
  },
  {
   "cell_type": "markdown",
   "id": "70606718-ad42-4423-8f39-6627a32ee02b",
   "metadata": {},
   "source": [
    "This section uses scatter plots to explore the relationship between `selling_price` and other numeric variables. "
   ]
  },
  {
   "cell_type": "code",
   "execution_count": 65,
   "id": "42cc7221-36c7-4dd8-a116-0175c449dd29",
   "metadata": {
    "tags": []
   },
   "outputs": [
    {
     "data": {
      "image/png": "[encoded data removed]",
      "text/plain": [
       "<Figure size 432x288 with 1 Axes>"
      ]
     },
     "metadata": {
      "needs_background": "light"
     },
     "output_type": "display_data"
    }
   ],
   "source": [
    "# Create a scatter plot of selling_price and year\n",
    "year_sp_corr, _ = stats.pearsonr(x = bike_data.year, y = bike_data.selling_price)\n",
    "\n",
    "bike_data.plot.scatter(x = \"year\", y = \"selling_price\")\n",
    "plt.title(\"Selling Price Vs. Year\")\n",
    "plt.xlabel(\"Year\")\n",
    "plt.ylabel(\"Selling Price (Indian Rupees)\")\n",
    "plt.yticks(ticks = [0, 100000, 200000, 300000, 400000, 500000, 600000, 700000],\n",
    "           labels = [\"0\", \"100k\", \"200k\", \"300k\", \"400k\", \"500k\", \"600k\", \"700k\"])\n",
    "plt.text(1990, 500000, \"Corr: \" + str(round(year_sp_corr, 2)), fontsize = 14)\n",
    "plt.show()"
   ]
  },
  {
   "cell_type": "markdown",
   "id": "ceaf61e4-2f1a-4c1e-9d0b-0fcc80484033",
   "metadata": {},
   "source": [
    "There is a mild correlation between `selling_price` and `year`. But the scatter plot suggests a quadratic relationship. Since taking the log turns quadratic things into linear things, it's worth plotting the log of `selling_price` against `year` to see what we find. "
   ]
  },
  {
   "cell_type": "code",
   "execution_count": 66,
   "id": "f551cd43-a1a6-4058-af8f-4295f0cf8f8d",
   "metadata": {},
   "outputs": [],
   "source": [
    "bike_data[\"log_selling_price\"] = np.log(bike_data.selling_price)"
   ]
  },
  {
   "cell_type": "code",
   "execution_count": 67,
   "id": "ea794ead-e9db-4236-bf65-7e6e2895f252",
   "metadata": {},
   "outputs": [
    {
     "data": {
      "image/png": "[encoded data removed]",
      "text/plain": [
       "<Figure size 432x288 with 1 Axes>"
      ]
     },
     "metadata": {
      "needs_background": "light"
     },
     "output_type": "display_data"
    }
   ],
   "source": [
    "# Create a scatter plot of log_selling_price and year \n",
    "year_log_sp_corr, _ = stats.pearsonr(x = bike_data.year, y = bike_data.log_selling_price)\n",
    "\n",
    "bike_data.plot.scatter(x = \"year\", y = \"log_selling_price\")\n",
    "plt.title(\"Log Selling Price Vs. Year\")\n",
    "plt.xlabel(\"Year\")\n",
    "plt.ylabel(\"Log Selling Price\")\n",
    "plt.text(1990, 13, \"Corr: \" + str(round(year_log_sp_corr, 2)), fontsize = 14)\n",
    "plt.show()"
   ]
  },
  {
   "cell_type": "markdown",
   "id": "7e1a3c3d-8e5e-45d7-b77a-7a5067e2704c",
   "metadata": {},
   "source": [
    "There is in fact a stronger linear relationship between the log of `selling_price` and `year`. "
   ]
  },
  {
   "cell_type": "code",
   "execution_count": 68,
   "id": "ca9b26d7-20dc-4fb0-9f01-638f00718a7c",
   "metadata": {},
   "outputs": [
    {
     "data": {
      "image/png": "[encoded data removed]",
      "text/plain": [
       "<Figure size 432x288 with 1 Axes>"
      ]
     },
     "metadata": {
      "needs_background": "light"
     },
     "output_type": "display_data"
    }
   ],
   "source": [
    "# Create a scatter plot of selling_price and km_driven \n",
    "km_sp_corr, _ = stats.pearsonr(x = bike_data.km_driven, y = bike_data.selling_price)\n",
    "\n",
    "slope, intercept, *_ = stats.linregress(bike_data.km_driven, bike_data.selling_price)\n",
    "\n",
    "x = np.array([float(x) for x in range(0, int(max(bike_data.km_driven))+1)])\n",
    "yhat = intercept + slope * x\n",
    "fit = pd.DataFrame(zip(x, yhat))\n",
    "\n",
    "bike_data.plot.scatter(x = \"km_driven\", y = \"selling_price\")\n",
    "plt.plot(x, yhat, c = \"Red\", label = [\"SLR fit\", \"slope = \" + str(slope.round(2)), \"y-intercept = \" + str(intercept.round(1))])\n",
    "plt.title(\"Selling Price Vs. Kilometers Driven\")\n",
    "plt.xlabel(\"Kilometers Driven\")\n",
    "plt.ylabel(\"Selling Price (Indian Rupees)\")\n",
    "plt.xticks(ticks = [0, 200000, 400000, 600000, 800000],\n",
    "           labels = [\"0\", \"200k\", \"400k\", \"600k\", \"800k\"])\n",
    "plt.yticks(ticks = [0, 100000, 200000, 300000, 400000, 500000, 600000, 700000],\n",
    "           labels = [\"0\", \"100k\", \"200k\", \"300k\", \"400k\", \"500k\", \"600k\", \"700k\"])\n",
    "plt.text(400000, 500000, \"Corr: \" + str(round(km_sp_corr, 2)), fontsize = 14)\n",
    "\n",
    "# Cut off y-axis at y=0 to prevent trendline from dipping below 0 Indian rupees\n",
    "x1,x2,y1,y2 = plt.axis()  \n",
    "plt.axis((x1,x2,0,y2))\n",
    "plt.legend()\n",
    "\n",
    "plt.show()"
   ]
  },
  {
   "cell_type": "markdown",
   "id": "d2e813fe-e7d0-4eb9-9481-8caf16e002bb",
   "metadata": {},
   "source": [
    "There is a weak linear relationship between `selling_price` and `km_driven`. A basic trend line yields a y-intercept of 67,618.1 and a slope of -0.23. It is clear that that relationship will get stronger if we remove the outliers. Let's see what happens when bikes with greater than 200,000 km are removed. "
   ]
  },
  {
   "cell_type": "code",
   "execution_count": 69,
   "id": "0f128c61-89a1-41de-bf72-3188fa200a01",
   "metadata": {},
   "outputs": [
    {
     "data": {
      "image/png": "[encoded data removed]",
      "text/plain": [
       "<Figure size 432x288 with 1 Axes>"
      ]
     },
     "metadata": {
      "needs_background": "light"
     },
     "output_type": "display_data"
    }
   ],
   "source": [
    "# Try without outlier kilometerage \n",
    "bike_data_low_km = bike_data[bike_data.km_driven <= 200000]\n",
    "\n",
    "km_sp_corr_low_km, _ = stats.pearsonr(x = bike_data_low_km.km_driven, \n",
    "                                      y = bike_data_low_km.selling_price)\n",
    "\n",
    "bike_data_low_km.plot.scatter(x = \"km_driven\", y = \"selling_price\")\n",
    "plt.title(\"Selling Price Vs. Kilometers Driven\")\n",
    "plt.xlabel(\"Kilometers Driven\")\n",
    "plt.ylabel(\"Selling Price (Indian Rupees)\")\n",
    "plt.xticks(ticks = [0, 20000, 40000, 60000, 80000, 100000, 120000],\n",
    "           labels = [\"0\", \"20k\", \"40k\", \"60k\", \"80k\", \"100k\", \"120k\"])\n",
    "plt.yticks(ticks = [0, 100000, 200000, 300000, 400000, 500000, 600000, 700000],\n",
    "           labels = [\"0\", \"100k\", \"200k\", \"300k\", \"400k\", \"500k\", \"600k\", \"700k\"])\n",
    "plt.text(40000, 400000, \"Corr: \" + str(round(km_sp_corr_low_km, 2)), fontsize = 14)\n",
    "plt.text(-7000, -200000, \"*Bikes with over 200,000 km excluded\", fontsize = 8)\n",
    "plt.show()"
   ]
  },
  {
   "cell_type": "markdown",
   "id": "2e650ced-4ee4-4031-a6df-ac6c6788793d",
   "metadata": {},
   "source": [
    "The linear relationship does in fact get stronger when the outliers are removed. Is removing the outliers justified? It is plausible that sales of high kilometerage bikes are rare, so we may not have enough data on those sales for a pattern to emerge. So it does not seem unreasonable to remove the outliers in this case.  \n",
    "\n",
    "Again, the relationship appears quadratic, so let's take the log. "
   ]
  },
  {
   "cell_type": "code",
   "execution_count": 70,
   "id": "5fd0897e-eeb4-42d4-b454-0f92ec14ffa3",
   "metadata": {},
   "outputs": [
    {
     "data": {
      "image/png": "[encoded data removed]",
      "text/plain": [
       "<Figure size 432x288 with 1 Axes>"
      ]
     },
     "metadata": {
      "needs_background": "light"
     },
     "output_type": "display_data"
    }
   ],
   "source": [
    "# Now there appears to be a quadratic relationship. Try log. \n",
    "km_log_sp_corr_low_km, _ = stats.pearsonr(x = bike_data_low_km.km_driven, \n",
    "                                          y = bike_data_low_km.log_selling_price)\n",
    "\n",
    "bike_data_low_km.plot.scatter(x = \"km_driven\", y = \"log_selling_price\")\n",
    "plt.title(\"Log Selling Price Vs. Kilometers Driven\")\n",
    "plt.xlabel(\"Kilometers Driven\")\n",
    "plt.ylabel(\"Log Selling Price\")\n",
    "plt.xticks(ticks = [0, 20000, 40000, 60000, 80000, 100000, 120000],\n",
    "           labels = [\"0\", \"20k\", \"40k\", \"60k\", \"80k\", \"100k\", \"120k\"])\n",
    "plt.text(80000, 13, \"Corr: \" + str(round(km_log_sp_corr_low_km, 2)), fontsize = 14)\n",
    "plt.text(-7000, 7.2, \"*Bikes with over 200,000 km excluded\", fontsize = 8)\n",
    "plt.show()"
   ]
  },
  {
   "cell_type": "markdown",
   "id": "6c3a6466-9893-45d6-9d40-86b7080bc8c1",
   "metadata": {},
   "source": [
    "After removing outliers and taking the log, a stronger linear relationship is uncovered. "
   ]
  },
  {
   "cell_type": "code",
   "execution_count": 71,
   "id": "a7dd3b28-9f40-4d29-b616-2cef56b93b22",
   "metadata": {
    "tags": []
   },
   "outputs": [
    {
     "data": {
      "image/png": "[encoded data removed]",
      "text/plain": [
       "<Figure size 432x288 with 1 Axes>"
      ]
     },
     "metadata": {
      "needs_background": "light"
     },
     "output_type": "display_data"
    }
   ],
   "source": [
    "# Scatter plot of selling_price and ex_showroom_price \n",
    "bike_data_drop_na = bike_data.dropna()\n",
    "\n",
    "show_sp_corr, _ = stats.pearsonr(x = bike_data_drop_na.ex_showroom_price, \n",
    "                                 y = bike_data_drop_na.selling_price)\n",
    "\n",
    "bike_data_drop_na.plot.scatter(x = \"ex_showroom_price\", y = \"selling_price\")\n",
    "plt.title(\"Selling Price Vs. Ex Showroom Price\")\n",
    "plt.xlabel(\"Ex Showroom Price (Indian Rupees)\")\n",
    "plt.ylabel(\"Selling Price (Indian Rupees)\")\n",
    "plt.yticks(ticks = [0, 100000, 200000, 300000, 400000, 500000, 600000, 700000],\n",
    "           labels = [\"0\", \"100k\", \"200k\", \"300k\", \"400k\", \"500k\", \"600k\", \"700k\"])\n",
    "plt.xticks(ticks = [0, 200000, 400000, 600000, 800000, 1000000, 1200000],\n",
    "           labels = [\"0\", \"200k\", \"400k\", \"600k\", \"800k\", \"1,000k\", \"1,200k\"])\n",
    "plt.text(1000000, 200000, \"Corr: \" + str(round(show_sp_corr, 2)), fontsize = 14)\n",
    "plt.text(-7000, -185000, \"*Missing values excluded\", fontsize = 8)\n",
    "plt.show()"
   ]
  },
  {
   "cell_type": "markdown",
   "id": "8f479cc4-3c76-4722-8104-bf8f75095800",
   "metadata": {},
   "source": [
    "The linear relationship between `selling_price` and `ex_showroom_price` is extremely strong. "
   ]
  },
  {
   "cell_type": "markdown",
   "id": "100a6d00-dae5-458f-ae2f-d85aefe08730",
   "metadata": {},
   "source": [
    "### <center>2.3 Box Plots</center>\n",
    "\n",
    "This section explores the relationship between `selling_price` and the categorical variables `seller_type` and `owner`. "
   ]
  },
  {
   "cell_type": "code",
   "execution_count": 72,
   "id": "98958ae7-7ad7-4e7a-bc9a-bb70e1a0fb58",
   "metadata": {},
   "outputs": [
    {
     "data": {
      "image/png": "[encoded data removed]",
      "text/plain": [
       "<Figure size 432x288 with 1 Axes>"
      ]
     },
     "metadata": {
      "needs_background": "light"
     },
     "output_type": "display_data"
    }
   ],
   "source": [
    "# Create a box plot of selling_price by seller_type \n",
    "bike_data.boxplot(column = [\"selling_price\"], \n",
    "                  by = \"seller_type\")\n",
    "plt.suptitle(\"\")\n",
    "plt.title(\"Boxplot of Selling Price by Seller Type\")\n",
    "plt.xlabel(\"Seller Type\")\n",
    "plt.ylabel(\"Selling Price\")\n",
    "plt.yticks(ticks = [0, 100000, 200000, 300000, 400000, 500000, 600000, 700000],\n",
    "           labels = [\"0\", \"100k\", \"200k\", \"300k\", \"400k\", \"500k\", \"600k\", \"700k\"])\n",
    "plt.show()"
   ]
  },
  {
   "cell_type": "markdown",
   "id": "a8fafea2-31ee-4fcc-8968-4ca71988b749",
   "metadata": {},
   "source": [
    "There are so many outliers that it's difficult to see what's going on. Let's remove them from the plot. "
   ]
  },
  {
   "cell_type": "code",
   "execution_count": 73,
   "id": "b6db00b3-c411-4f1e-8a61-f384cc3c1250",
   "metadata": {},
   "outputs": [
    {
     "data": {
      "image/png": "[encoded data removed]",
      "text/plain": [
       "<Figure size 432x288 with 1 Axes>"
      ]
     },
     "metadata": {
      "needs_background": "light"
     },
     "output_type": "display_data"
    }
   ],
   "source": [
    "# Remove outliers from the previous boxplot \n",
    "bike_data.boxplot(column = \"selling_price\", \n",
    "                  by = \"seller_type\",\n",
    "                  showfliers = False)\n",
    "plt.suptitle(\"\")\n",
    "plt.title(\"Boxplot of Selling Price by Seller Type\")\n",
    "plt.xlabel(\"Seller Type\")\n",
    "plt.ylabel(\"Selling Price (Indian Rupees)\")\n",
    "plt.yticks(ticks = [0, 20000, 40000, 60000, 80000, 100000, 120000],\n",
    "           labels = [\"0\", \"20k\", \"40k\", \"60k\", \"80k\", \"100k\", \"120k\"])\n",
    "plt.show()"
   ]
  },
  {
   "cell_type": "markdown",
   "id": "982c8f8a-38a9-4b70-b664-91bccbae9970",
   "metadata": {},
   "source": [
    "It is difficult to draw conclusions because only six bikes in the data set were sold by dealers. This is probably why we see a wider range in the `selling_price` of bikes sold by individuals. "
   ]
  },
  {
   "cell_type": "code",
   "execution_count": 74,
   "id": "365a09ed-0d5c-4a4b-8c55-b63a1297c02c",
   "metadata": {},
   "outputs": [
    {
     "data": {
      "image/png": "[encoded data removed]",
      "text/plain": [
       "<Figure size 432x288 with 1 Axes>"
      ]
     },
     "metadata": {
      "needs_background": "light"
     },
     "output_type": "display_data"
    }
   ],
   "source": [
    "# Create a boxplot of selling_price by owner\n",
    "bike_data.boxplot(column = \"selling_price\", \n",
    "                  by = \"owner\",\n",
    "                  showfliers = False)\n",
    "plt.suptitle(\"\")\n",
    "plt.title(\"Boxplot of Selling Price by Owner\")\n",
    "plt.xlabel(\"Owner\")\n",
    "plt.ylabel(\"Selling Price (Indian Rupees)\")\n",
    "plt.yticks(ticks = [50000, 100000, 150000, 200000, 250000, 300000],\n",
    "           labels = [\"0\", \"100k\", \"150k\", \"200k\", \"250k\", \"300k\"])\n",
    "plt.show()"
   ]
  },
  {
   "cell_type": "markdown",
   "id": "f3058d8d-00c9-4c08-8b05-e21cffecf2f4",
   "metadata": {},
   "source": [
    "Again, drawing conclusions about third and fourth owner bikes is difficult because only 11 were sold by their third owner, and only 3 were sold by their fourth owner. \n",
    "\n",
    "There were 123 bikes sold by their second owner and 924 sold by their first owner, so it is more reasonable to compare these categories. One thing that stands out is that the mean `selling_price` of bikes sold by their second owner is lower than the mean `selling_price` of bikes sold by their first owner. The IQR of `selling_price` is also smaller for second owner bikes than first owner bikes. "
   ]
  },
  {
   "cell_type": "markdown",
   "id": "622697a3-cd96-4034-85d3-0c5d583b7dcc",
   "metadata": {},
   "source": [
    "### <center>2.4 Contingency Table and Bar Plot</center>\n",
    "\n",
    "This section compares `seller_type` and `owner`."
   ]
  },
  {
   "cell_type": "code",
   "execution_count": 75,
   "id": "22ede582-107d-4963-898b-ab55442afb8b",
   "metadata": {},
   "outputs": [
    {
     "data": {
      "text/html": [
       "<div>\n",
       "<style scoped>\n",
       "    .dataframe tbody tr th:only-of-type {\n",
       "        vertical-align: middle;\n",
       "    }\n",
       "\n",
       "    .dataframe tbody tr th {\n",
       "        vertical-align: top;\n",
       "    }\n",
       "\n",
       "    .dataframe thead th {\n",
       "        text-align: right;\n",
       "    }\n",
       "</style>\n",
       "<table border=\"1\" class=\"dataframe\">\n",
       "  <thead>\n",
       "    <tr style=\"text-align: right;\">\n",
       "      <th>owner</th>\n",
       "      <th>1st owner</th>\n",
       "      <th>2nd owner</th>\n",
       "      <th>3rd owner</th>\n",
       "      <th>4th owner</th>\n",
       "    </tr>\n",
       "    <tr>\n",
       "      <th>seller_type</th>\n",
       "      <th></th>\n",
       "      <th></th>\n",
       "      <th></th>\n",
       "      <th></th>\n",
       "    </tr>\n",
       "  </thead>\n",
       "  <tbody>\n",
       "    <tr>\n",
       "      <th>Dealer</th>\n",
       "      <td>4</td>\n",
       "      <td>2</td>\n",
       "      <td>0</td>\n",
       "      <td>0</td>\n",
       "    </tr>\n",
       "    <tr>\n",
       "      <th>Individual</th>\n",
       "      <td>920</td>\n",
       "      <td>121</td>\n",
       "      <td>11</td>\n",
       "      <td>3</td>\n",
       "    </tr>\n",
       "  </tbody>\n",
       "</table>\n",
       "</div>"
      ],
      "text/plain": [
       "owner        1st owner  2nd owner  3rd owner  4th owner\n",
       "seller_type                                            \n",
       "Dealer               4          2          0          0\n",
       "Individual         920        121         11          3"
      ]
     },
     "execution_count": 75,
     "metadata": {},
     "output_type": "execute_result"
    }
   ],
   "source": [
    "seller_owner_tab = pd.crosstab(bike_data.seller_type, bike_data.owner)\n",
    "seller_owner_tab"
   ]
  },
  {
   "cell_type": "markdown",
   "id": "5edfa274-edae-4ddb-895a-ca63be73bfb1",
   "metadata": {},
   "source": [
    "Not very many of the bikes were sold by dealers, and only a few were sold by their third or fourth owner. "
   ]
  },
  {
   "cell_type": "code",
   "execution_count": 76,
   "id": "ba5f9229-6776-4234-8da8-9e8352140c71",
   "metadata": {},
   "outputs": [
    {
     "data": {
      "image/png": "[encoded data removed]",
      "text/plain": [
       "<Figure size 432x288 with 1 Axes>"
      ]
     },
     "metadata": {
      "needs_background": "light"
     },
     "output_type": "display_data"
    }
   ],
   "source": [
    "seller_owner_tab.plot.bar()\n",
    "plt.title(\"Seller Type by Owner\")\n",
    "plt.xlabel(\"Seller Type\")\n",
    "plt.ylabel(\"Count\")\n",
    "plt.xticks(rotation = 0)\n",
    "plt.show()"
   ]
  },
  {
   "cell_type": "markdown",
   "id": "633e5e86-d88b-4052-bb12-d096f4270cf8",
   "metadata": {
    "tags": []
   },
   "source": [
    "Individual sales by owner are by far the most common type of sale. "
   ]
  },
  {
   "cell_type": "markdown",
   "id": "552e64d3-c9c1-448c-9b80-4e93bf980a50",
   "metadata": {
    "tags": []
   },
   "source": [
    "## <center>3 Prediction of `selling_price`"
   ]
  },
  {
   "cell_type": "markdown",
   "id": "3888af2c-c79b-443e-b360-cc4cf45d78a4",
   "metadata": {},
   "source": [
    "Scatter plots in the previous section have shown a low negative correlation between `selling_price` (the price at which a seller is selling their motorcycle) and `km_driven` (the odometer reading of the motorcycle). In this section, we continue to explore these two variables and apply regression analysis. Our objective is to predict values of `selling_price` and to quantify the quality of our prediction using the root mean square error (RMSE) as the metric,"
   ]
  },
  {
   "cell_type": "markdown",
   "id": "68d6e88d-50b9-4553-bac7-1b64e0068cef",
   "metadata": {},
   "source": [
    "$$\n",
    "RMSE(c) = \\sqrt{\\frac{1}{n}\\sum_{i=1}^{n} {(y_i-c)^2}}\n",
    "$$"
   ]
  },
  {
   "cell_type": "markdown",
   "id": "4921736f-57e3-4fdd-b2e1-f32a37f9d034",
   "metadata": {},
   "source": [
    "where $y_i,...,y_n$ are our `selling_price` values and $c$ is our prediction."
   ]
  },
  {
   "cell_type": "markdown",
   "id": "860f70fe-8e7d-4cd3-8027-56fa9e436279",
   "metadata": {},
   "source": [
    "### <center>3.1 Grid Search Algorithm</center>"
   ]
  },
  {
   "cell_type": "markdown",
   "id": "e856cb49-dcb5-4669-b437-f03b0af10631",
   "metadata": {},
   "source": [
    "#### <center>Just _y_ (`selling_price`)\n",
    "\n",
    "In this subsection, we determine which prediction, $c$, yields the smallest RMSE value. To do this, we create a list of candidate values and iteratively subtract them from the values of `selling_price`. Since the calculus-based answer for this turns out to be the sample mean, we will center our candidate values around the mean of `selling_price`, $59638.2$, as determined in section 2.1. "
   ]
  },
  {
   "cell_type": "code",
   "execution_count": 77,
   "id": "f3d2ddbf-2157-4328-989a-9611c70e2c54",
   "metadata": {},
   "outputs": [],
   "source": [
    "# Create a grid of prediction values (c) for selling price\n",
    "# Center them around the mean, based on calculus\n",
    "selling_price_grid = [x for x in range(40000, 80000, 10)]"
   ]
  },
  {
   "cell_type": "markdown",
   "id": "1cc4693a-e9de-47c9-ac1f-1bda5e5eb526",
   "metadata": {},
   "source": [
    "Next, we create a user-defined function, `calc_grid_simple()` which accepts both our `selling_price` series and our list of predictions, `selling_price_grid`. The function initiates an empty dictionary, `rmse`, to store our prediction and the resulting RMSE as key-value pairs. Next, the function calculates a squared sum of differences and the root of the quotient of this sum and the length of our `selling_price` series, as directed by the RMSE equation. Lastly, the function identifies the key-value pair with the minimal RMSE value and returns it as a tuple, `(RMSE, c)`.  "
   ]
  },
  {
   "cell_type": "code",
   "execution_count": 78,
   "id": "99d55a05-9339-4791-915a-a44990bfff0d",
   "metadata": {},
   "outputs": [],
   "source": [
    "# Grid search algorithm\n",
    "def calc_grid_simple(y, c):\n",
    "    # Initialize empty array for RMSE\n",
    "    rmse = {}\n",
    "    for val in range(0, len(c)):\n",
    "        diff = (y - c[val])**2\n",
    "        rmse[c[val]] = np.sqrt(sum(diff)/len(y))\n",
    "    # Find minimum value in dictionary and its associated key\n",
    "    rmse_key_val = min(zip(rmse.values(), rmse.keys()))\n",
    "    # Return the key as our prediction\n",
    "    return rmse_key_val"
   ]
  },
  {
   "cell_type": "markdown",
   "id": "46d1df6f-847f-4cbd-ad4e-9f4466a1ea01",
   "metadata": {},
   "source": [
    "With `selling_price` and `selling_price_grid` as inputs, our function returns a prediction of `c = 59640`, which matches with our expected mean value of `selling_price`, $59,638.2$. We can edge this value closer to the mean by using a step value smaller than 10, such as 1, in our search grid (however, this increases computing time). The RMSE associated with this prediction is $56,277.8$."
   ]
  },
  {
   "cell_type": "code",
   "execution_count": 79,
   "id": "190937c0-01a3-4e47-b4d5-f44bb6f30758",
   "metadata": {},
   "outputs": [
    {
     "name": "stdout",
     "output_type": "stream",
     "text": [
      "Our selling_price prediction (c): 59,640 \n",
      "Associated RMSE (optimal): 56,277.8\n"
     ]
    }
   ],
   "source": [
    "# Run the algorithm on the selling_price variable and determine the optimal prediction\n",
    "optimal_selling_c = calc_grid_simple(bike_data.selling_price, selling_price_grid)\n",
    "print(\"Our selling_price prediction (c):\", format(optimal_selling_c[1], \",\"), \"\\nAssociated RMSE (optimal):\", format(optimal_selling_c[0].round(1), \",\"))"
   ]
  },
  {
   "cell_type": "markdown",
   "id": "8e16f99d-984f-4e55-9b6a-18a3f9408488",
   "metadata": {},
   "source": [
    "To confirm that our function generalizes to values other than those in the `selling_price` series, we can use the `km_driven` series. Our search grid centers around the mean value of `km_driven`, $34,359.8$."
   ]
  },
  {
   "cell_type": "code",
   "execution_count": 80,
   "id": "67526949-6490-481e-b6ac-bc209f547088",
   "metadata": {},
   "outputs": [],
   "source": [
    "# Create a grid of prediction values (c) for km_driven\n",
    "# Center them around the mean, based on calculus \n",
    "km_driven_grid = [x for x in range(10000, 50000, 10)]"
   ]
  },
  {
   "cell_type": "markdown",
   "id": "a075c6ca-f5d5-4312-b7f7-4f0a085aa308",
   "metadata": {},
   "source": [
    "Our function yields a prediction of `c = 34360`, which once again aligns with the mean of the supplied Series, `km_driven`. The associated RMSE value is $51,598.8$. "
   ]
  },
  {
   "cell_type": "code",
   "execution_count": 81,
   "id": "61328d0b-0f99-4ec2-88d0-3ba245369062",
   "metadata": {},
   "outputs": [
    {
     "name": "stdout",
     "output_type": "stream",
     "text": [
      "Our km_driven prediction (c): 34,360 \n",
      "Associated RMSE (optimal): 51,598.8\n"
     ]
    }
   ],
   "source": [
    "# To make sure the algorithm generalizes, run it using the km_driven variable as the response\n",
    "optimal_km_c = calc_grid_simple(bike_data.km_driven, km_driven_grid)\n",
    "print(\"Our km_driven prediction (c):\", format(optimal_km_c[1], \",\"), \"\\nAssociated RMSE (optimal):\", format (optimal_km_c[0].round(1), \",\"))"
   ]
  },
  {
   "cell_type": "markdown",
   "id": "fa2f6040-6355-4983-b0d0-ebfe4b9f6652",
   "metadata": {
    "tags": []
   },
   "source": [
    "#### <center>Using _y_ and Another Numeric Variable, _x_ (`selling_price` and `km_driven`)"
   ]
  },
  {
   "cell_type": "markdown",
   "id": "860fbf24-1a5e-41f5-995b-9b48c774955c",
   "metadata": {},
   "source": [
    "In this subsection, we extend our user-defined function to incorporate a single predictor variable, `km_driven`. We do this with the assumption that `selling_price` and `km_driven` are related linearly, so that a \"best fitting\" regression line of the form\n",
    "\n",
    "$$\n",
    "c_{i} = b_{0} + b_{1}x_{i}\n",
    "$$\n",
    "\n",
    "may be drawn. Here, $c_{i}$ is our prediction, $b_{0}$ is the y-intercept, $b_{1}$ is the slope, and $x_{i}$ is the value of `km_driven`. The objective is to determine the values of $b_{0}$ and $b_{1}$ that minimize $\\sum{(y_i-c_{i})}^2$."
   ]
  },
  {
   "cell_type": "markdown",
   "id": "de25d7e4-b754-46b1-8106-e014a4a747ab",
   "metadata": {},
   "source": [
    "Based on our scatter plot analysis of the relationship between `selling_price` (our $y$ variable) and `km_driven` (our $x$ variable), a reasonable range for $b_0$ is $60,000$ to $70,000$, and a reasonable range for $b_1$ is $-0.20$ to $-0.30$. We can use these values as reference points for our $b_0$ and $b_1$ value grids, respectively, to help us reduce computation time."
   ]
  },
  {
   "cell_type": "code",
   "execution_count": 82,
   "id": "d1df5638-fd7f-45b3-ab4d-e91ad91e70aa",
   "metadata": {},
   "outputs": [],
   "source": [
    "# Create grids for b_0 and b_1 based on values found during EDA\n",
    "b_0 = [x for x in range(60000, 70000, 10)]\n",
    "b_1 = [x for x in np.arange(-0.20, -0.30, -0.005)]"
   ]
  },
  {
   "cell_type": "markdown",
   "id": "5f0aece1-7f81-40c3-9154-24e9740b1fe5",
   "metadata": {},
   "source": [
    "Next, we expand upon the function defined previously by accepting two additional lists of values for $b_{0}$ and $b_{1}$. We iterate over combinations of these numbers to populate a list of RMSE values for each combination, and we identify the combination with the smallest resulting RMSE."
   ]
  },
  {
   "cell_type": "code",
   "execution_count": 83,
   "id": "71a74ccc-543b-4574-bf02-ed68bfac3c56",
   "metadata": {},
   "outputs": [],
   "source": [
    "def calc_grid_complex(y, b0_grid, b1_grid, x):\n",
    "    # Initialize empty 2D array and an empty dictionary to store b0/b1:RMSE pairs\n",
    "    column, row = len(b0_grid), len(b1_grid)\n",
    "    rmse = {}\n",
    "    rmse_matrix = [[0 for _ in range(row)] for _ in range(column)]\n",
    "    for b_zero in range(0, len(b0_grid)):\n",
    "        for b_one in range(0, len(b1_grid)):\n",
    "            c = b0_grid[b_zero] + b1_grid[b_one] * x\n",
    "            diff = (y - c)**2\n",
    "            rmse[b0_grid[b_zero], b1_grid[b_one]] = np.sqrt(sum(diff)/len(y))\n",
    "    rmse_key_val = min(zip(rmse.values(), rmse.keys()))\n",
    "    return rmse_key_val"
   ]
  },
  {
   "cell_type": "markdown",
   "id": "072342e7-98b0-4a67-8932-29740cc3ab49",
   "metadata": {},
   "source": [
    "The result of our user-defined function is a tuple of the form `(RMSE, (y-intercept, slope))`, as shown below. For our data set, the optimal RMSE value, $54,987.2$, is given by $b_{0}=67,540 $ and $b_{1}=-0.23$."
   ]
  },
  {
   "cell_type": "code",
   "execution_count": 84,
   "id": "39e95747-3f72-439b-978f-60a0bfc845b8",
   "metadata": {},
   "outputs": [
    {
     "data": {
      "text/plain": [
       "(54987.1999686615, (67540, -0.23000000000000004))"
      ]
     },
     "execution_count": 84,
     "metadata": {},
     "output_type": "execute_result"
    }
   ],
   "source": [
    "min_rmse = calc_grid_complex(bike_data.selling_price, b_0, b_1, bike_data.km_driven)\n",
    "min_rmse"
   ]
  },
  {
   "cell_type": "code",
   "execution_count": 85,
   "id": "ec25ad87-fae0-4eb3-8c77-72ca07ca6e41",
   "metadata": {},
   "outputs": [
    {
     "name": "stdout",
     "output_type": "stream",
     "text": [
      "Optimal RMSE from our function: 54,987.2 \n",
      "Intercept from our function: 67,540 \n",
      "Slope from our function: -0.23000000000000004\n"
     ]
    }
   ],
   "source": [
    "print(\"Optimal RMSE from our function:\", format(min_rmse[0].round(1), \",\"), \"\\nIntercept from our function:\", format(min_rmse[1][0], \",\"), \"\\nSlope from our function:\", min_rmse[1][1])"
   ]
  },
  {
   "cell_type": "markdown",
   "id": "bc3794e5-1561-45e6-82a3-62116a7514d8",
   "metadata": {},
   "source": [
    "To predict the `selling_price` for $10,000$, $25,000$, and $35,000$ `km_driven`, we can populate our user-defined function with a list of the requested predictor values. Subsequently, we can iterate over these values using the formula $c_{i} = b_{0} + b_{1}x_{i}$ and the combination of the $b_{0}$ and $b_{1}$ values we identified above. "
   ]
  },
  {
   "cell_type": "code",
   "execution_count": 86,
   "id": "c4678454-3a3f-4ab7-a98d-75fcc3300e26",
   "metadata": {},
   "outputs": [
    {
     "name": "stdout",
     "output_type": "stream",
     "text": [
      "10000 km :  65,240.0\n",
      "25000 km :  61,790.0\n",
      "35000 km :  59,490.0\n"
     ]
    }
   ],
   "source": [
    "# Create array of km_driven for which we wish to make selling_price predictions\n",
    "km_driven_array = [10000, 25000, 35000]\n",
    "\n",
    "# Initialize an empty dictionary\n",
    "prediction = {}\n",
    "\n",
    "# Populate dictionary with km_driven:selling_price pairs based on b_0, b_1 from our custom function\n",
    "for km in range(0, len(km_driven_array)):\n",
    "    prediction[km_driven_array[km]] = min_rmse[1][0] + min_rmse[1][1] * km_driven_array[km]\n",
    "\n",
    "# Print km_driven:selling_price prediction pairs\n",
    "for key in prediction.keys():\n",
    "    print(key, 'km : ', format(prediction[key], \",\"))"
   ]
  },
  {
   "cell_type": "markdown",
   "id": "15bc85c5-0d53-4a13-bc96-897a3337ad31",
   "metadata": {},
   "source": [
    "We find that, for an odometer reading of $10,000$ km, our predicted `selling_price` is $65,240$ Indian rupees. For odometer readings of $25,000$ km and $35,000$ km, our predicted prices are $61,790$ and $59,490$ Indian rupees, respectively. We can compare these results to the linear least-squares regression returned by `scipy.stats` package and its `linregress` method."
   ]
  },
  {
   "cell_type": "code",
   "execution_count": 87,
   "id": "8cf8ffaa-0aa9-4a44-9d6a-85c05198a8ad",
   "metadata": {},
   "outputs": [
    {
     "name": "stdout",
     "output_type": "stream",
     "text": [
      "Intercept from stats.linregress: 67,618.07212024048 \n",
      "Slope from stats.linregress: -0.2322456088674644\n"
     ]
    }
   ],
   "source": [
    "# Use stats.linregress, with x = km_driven and y = selling_price\n",
    "# There are many things returned - the first is a slope, the second is an intercept, and \n",
    "# the rest is placed into a temporary variable\n",
    "slope, intercept, *_ = stats.linregress(bike_data.km_driven, bike_data.selling_price)\n",
    "\n",
    "print(\"Intercept from stats.linregress:\", format(intercept, \",\"), \"\\nSlope from stats.linregress:\", slope)"
   ]
  },
  {
   "cell_type": "markdown",
   "id": "ed93f861-ef95-4bb9-b5b4-ec1cf3dd88c3",
   "metadata": {},
   "source": [
    "We find that the `.linregress()` returns a y-intercept of $67,618.1$ and a slope of $-0.23$, both of which are within $0.1%$ of the values returned by our `calc_grid_complex` function. Moreover, the values predicted by `.linregress()` for $10,000$, $25,000$, and $35,000$ `km_driven` are $65,295.6$, $61,811.9$, and $59,489.5$ Indian rupees, which aligns closely with our own findings."
   ]
  },
  {
   "cell_type": "code",
   "execution_count": 88,
   "id": "4b92ae75-64c8-48f5-a548-2b41d954928d",
   "metadata": {},
   "outputs": [
    {
     "name": "stdout",
     "output_type": "stream",
     "text": [
      "10000 km :  65,295.6\n",
      "25000 km :  61,811.9\n",
      "35000 km :  59,489.5\n"
     ]
    }
   ],
   "source": [
    "# Initialize an empty dictionary\n",
    "prediction_stats_package = {}\n",
    "\n",
    "# Populate dictionary with km_driven:selling_price pairs based on b_0, b_1 from our custom function\n",
    "for km in range(0, len(km_driven_array)):\n",
    "    prediction_stats_package[km_driven_array[km]] = intercept + slope * km_driven_array[km]\n",
    "\n",
    "# Print km_driven:selling_price prediction pairs\n",
    "for key in prediction_stats_package.keys():\n",
    "    print(key, 'km : ', format(prediction_stats_package[key].round(1), \",\"))"
   ]
  },
  {
   "cell_type": "markdown",
   "id": "0f58c3d8-4a4c-4743-afe7-fb44be901d00",
   "metadata": {},
   "source": [
    "### <center>3.2 Gradient Descent Algorithm</center>\n",
    "\n",
    "This subsection uses a gradient descent algorithm to find the prediction that minimizes RMSE. The gradient descent method is an alternative to the grid search method used in the previous section. \n",
    "\n",
    "We know from calculus class that RMSE is minimized when the value of its derivative is zero (we'll leave aside the possibility of maximum points and local extrema). The idea behind the gradient descent algorithm is to incrementally adjust our prediction until the value of the derivative is reasonably close to 0. "
   ]
  },
  {
   "cell_type": "markdown",
   "id": "7c156067-72e2-49d6-8bd4-38403d8fa70c",
   "metadata": {},
   "source": [
    "#### <center>Just _y_ (`selling_price`)"
   ]
  },
  {
   "cell_type": "markdown",
   "id": "2ce27121-6bf4-47c8-94a0-929a9a3288af",
   "metadata": {},
   "source": [
    "We will begin with a constant prediction, $c$. \n",
    "\n",
    "In order to create the gradient descent function, we need to create three helper functions: \n",
    "- `get_sq_err_loss()`: Returns the squared error between an observation of the target variable, $y$, and the prediction $c$. \n",
    "- `get_rmse()`: Returns the root mean square error. Our objective is to minimize this function. \n",
    "- `get_diff_quo()`: Returns an estimate of the value of the derivative of RMSE at the prediction $c$. "
   ]
  },
  {
   "cell_type": "code",
   "execution_count": 89,
   "id": "4ab49933-7bef-4da1-9039-beb152fa0c1b",
   "metadata": {
    "tags": []
   },
   "outputs": [],
   "source": [
    "def get_sq_err_loss(y, c): \n",
    "    return (y - c)**2"
   ]
  },
  {
   "cell_type": "code",
   "execution_count": 90,
   "id": "33bdc09a-e5de-4d1d-be30-450df540faf4",
   "metadata": {
    "tags": []
   },
   "outputs": [],
   "source": [
    "def get_rmse(y, c): \n",
    "    \"\"\"\n",
    "    Takes\n",
    "        y: a numeric vector of observations of the target variable\n",
    "        c: a numeric prediction\n",
    "    Returns \n",
    "        Root Mean Squared Error \n",
    "    \"\"\"\n",
    "\n",
    "    # Find RMSE\n",
    "    sum = 0\n",
    "\n",
    "    for i in range(0, len(y)): \n",
    "        sum += get_sq_err_loss(y[i], c)\n",
    "\n",
    "    avg = sum / len(y)\n",
    "\n",
    "    rmse = np.sqrt(avg)\n",
    "\n",
    "    return rmse"
   ]
  },
  {
   "cell_type": "code",
   "execution_count": 91,
   "id": "90fc31f9-7e9b-4e4e-95e8-268745437a36",
   "metadata": {},
   "outputs": [],
   "source": [
    "def get_diff_quo(c, delta, y):\n",
    "    diff_quo = (get_rmse(y, c + delta) - get_rmse(y, c)) / delta\n",
    "    return diff_quo"
   ]
  },
  {
   "cell_type": "markdown",
   "id": "bdd9dc78-23ef-41f6-bf1c-867fc7222825",
   "metadata": {},
   "source": [
    "Now we are ready to create the gradient descent function, `get_gd_pred()`. \n",
    "\n",
    "This function estimates the value of the derivative at a user specified prediction, `cur_c`. The prediction is then adjusted based on the value of the derivative. If the value of the derivative is positive, the prediction becomes slightly smaller. If it is negative, the prediction becomes slightly bigger. The value of the derivative is then estimated at this new prediction (is will be slightly closer to zero than last time). This process is repeated until the value of the derivative is reasonably close to zero or the user specified maximum number of iterations is reached. "
   ]
  },
  {
   "cell_type": "code",
   "execution_count": 92,
   "id": "c7899574-fe0a-430b-95f5-93c62454d499",
   "metadata": {},
   "outputs": [],
   "source": [
    "def get_gd_pred(cur_c, y, max_iterations, num_tol = .0001, step_size = .5, delta = .005): \n",
    "    \"\"\"\n",
    "    Takes \n",
    "        cur_c: An initial prediction\n",
    "        y: a vector of observations\n",
    "        num_tol: determines how close the prediction needs to be to the \n",
    "                   prediction that minimizes RMSE\n",
    "        step_size: determines how far the updated prediction is from the input prediction\n",
    "        delta: used to estimate the derivative of RMSE at c\n",
    "        max_iterations: how long do you want the algorithm to run before you get bored\n",
    "    Returns a dictionary containing \n",
    "        a prediction \n",
    "        the number of iterations that ran (so you know whether the algorithm\n",
    "            stopped because your prediction is accurate enough or because you \n",
    "            hit max_iterations)\n",
    "        RMSE\n",
    "    \"\"\"\n",
    "    iterations = 0\n",
    "    \n",
    "    # Update the prediction depending on the slope of the \n",
    "    # estimate of the tangent line of RMSE at c.\n",
    "    # Repeat until a tolerably accurate prediction is found or max_iterations is met.\n",
    "    while iterations <= max_iterations: \n",
    "        \n",
    "        iterations += 1\n",
    "        \n",
    "        new_c = cur_c - get_diff_quo(cur_c, delta, y) * step_size\n",
    "        \n",
    "        if abs(new_c - cur_c) < num_tol:\n",
    "            cur_c = new_c\n",
    "            break\n",
    "        else: \n",
    "            cur_c = new_c\n",
    "    \n",
    "    # Make sure the iterations count returned is accurate \n",
    "    if iterations > max_iterations: \n",
    "        iterations = max_iterations \n",
    "    \n",
    "    # Calculate RMSE for our final prediction choice \n",
    "    rmse = get_rmse(y = y, c = cur_c)\n",
    "\n",
    "    return {\"pred\": cur_c, \n",
    "            \"RMSE\": rmse,\n",
    "            \"iter\": iterations}"
   ]
  },
  {
   "cell_type": "markdown",
   "id": "e71ae8a2-28a1-46d5-8af6-ea52d6f18c0d",
   "metadata": {},
   "source": [
    "Let's use `get_gd_pred()` to find a reasonable value of the prediction, $c$. \n",
    "\n",
    "We will begin with the suggested starting value, $50,000$, and a maximum of $1,000$ iterations. "
   ]
  },
  {
   "cell_type": "code",
   "execution_count": 93,
   "id": "c2f9b49e-c9ba-4ea7-8cf6-10cf902a48c6",
   "metadata": {},
   "outputs": [
    {
     "name": "stdout",
     "output_type": "stream",
     "text": [
      "Prediction: 50,084.13\n",
      "RMSE: 57,082.96\n",
      "Iterations: 1,000\n"
     ]
    }
   ],
   "source": [
    "pred_1 = get_gd_pred(cur_c = 50000,\n",
    "                     y = bike_data.selling_price, \n",
    "                     max_iterations = 1000)\n",
    "\n",
    "print(\"Prediction: \" + format(round(pred_1[\"pred\"], 2), \",\") +\n",
    "      \"\\nRMSE: \" + format(round(pred_1[\"RMSE\"], 2), \",\") +\n",
    "      \"\\nIterations: \" + format(round(pred_1[\"iter\"], 2), \",\"))"
   ]
  },
  {
   "cell_type": "markdown",
   "id": "f7f60ba5-ea65-40d8-9ca1-f34320bbf5ee",
   "metadata": {},
   "source": [
    "The resulting prediction $50,084.13$. But we did hit the maximum number of iterations. So it's worth running the function with more iterations, an increased step size, and/or a larger starting value. "
   ]
  },
  {
   "cell_type": "code",
   "execution_count": 94,
   "id": "0a6a3b8d-5687-4eae-8872-8c6bae72f6cb",
   "metadata": {},
   "outputs": [
    {
     "name": "stdout",
     "output_type": "stream",
     "text": [
      "Prediction: 59,987.36\n",
      "RMSE: 56,278.84\n",
      "Iterations: 2,000\n"
     ]
    }
   ],
   "source": [
    "pred_2 = get_gd_pred(cur_c = 60000,\n",
    "                     y = bike_data.selling_price, \n",
    "                     max_iterations = 2000,\n",
    "                     step_size = 1)\n",
    "\n",
    "print(\"Prediction: \" + format(round(pred_2[\"pred\"], 2), \",\") +\n",
    "      \"\\nRMSE: \" + format(round(pred_2[\"RMSE\"], 2), \",\") +\n",
    "      \"\\nIterations: \" + format(round(pred_2[\"iter\"], 2), \",\"))"
   ]
  },
  {
   "cell_type": "markdown",
   "id": "77dce26f-6348-4051-9b28-2bdc29cbba50",
   "metadata": {},
   "source": [
    "This time, `get_gd_pred()` returned a prediction that is smaller than the starting value. That tells us that the best prediction is somewhere between $50,000$ and $60,000$. By playing around a little bit, we can home in on a good value for the prediction. "
   ]
  },
  {
   "cell_type": "code",
   "execution_count": 95,
   "id": "25e38518-0d3d-4916-bd0b-2d7ade1344dd",
   "metadata": {},
   "outputs": [
    {
     "name": "stdout",
     "output_type": "stream",
     "text": [
      "Prediction: 59,635.32\n",
      "RMSE: 56,277.75\n",
      "Iterations: 3,022\n"
     ]
    }
   ],
   "source": [
    "pred_3 = get_gd_pred(cur_c = 59635,\n",
    "                     y = bike_data.selling_price, \n",
    "                     max_iterations = 10000,\n",
    "                     step_size = 2)\n",
    "\n",
    "print(\"Prediction: \" + format(round(pred_3[\"pred\"], 2), \",\") +\n",
    "      \"\\nRMSE: \" + format(round(pred_3[\"RMSE\"], 2), \",\") +\n",
    "      \"\\nIterations: \" + format(round(pred_3[\"iter\"], 2), \",\"))"
   ]
  },
  {
   "cell_type": "markdown",
   "id": "877b1e34-601d-4d29-9160-9fdb6167592b",
   "metadata": {},
   "source": [
    "$59,635.32$ appears to be a good prediction value. The algorithm stopped before the maximum number of iterations was reached, which means that this number is reasonably close to the value that minimizes RMSE. \n",
    "\n",
    "To make sure that the algorithm generalizes, let's run it using `km_driven` as the response variable. "
   ]
  },
  {
   "cell_type": "code",
   "execution_count": 96,
   "id": "e4238c3d-9719-45f1-acf0-b144ff262ce3",
   "metadata": {
    "tags": []
   },
   "outputs": [
    {
     "name": "stdout",
     "output_type": "stream",
     "text": [
      "Prediction: 34,006.91\n",
      "RMSE: 51,600.03\n",
      "Iterations: 1,000\n"
     ]
    }
   ],
   "source": [
    "km_driven_pred = get_gd_pred(cur_c = 34000,\n",
    "                             y = bike_data.km_driven,\n",
    "                             max_iterations = 1000,\n",
    "                             step_size = 1)\n",
    "\n",
    "print(\"Prediction: \" + format(round(km_driven_pred[\"pred\"], 2), \",\") +\n",
    "      \"\\nRMSE: \" + format(round(km_driven_pred[\"RMSE\"], 2), \",\") +\n",
    "      \"\\nIterations: \" + format(round(km_driven_pred[\"iter\"], 2), \",\"))"
   ]
  },
  {
   "cell_type": "markdown",
   "id": "cc80ba36-ccb1-41c0-9755-ba480172caf1",
   "metadata": {},
   "source": [
    "#### <center>Using _y_ and Another Numeric Variable, _x_ (`selling_price` and `km_driven`)\n",
    "\n",
    "In this subsection, we extend gradient descent function to incorporate a single predictor variable, `km_driven`. Just like the grid search case, we will fit a simple liner regression of the form:  \n",
    "\n",
    "$$\n",
    "c_{i} = b_{0} + b_{1}x_{i}\n",
    "$$\n",
    "\n",
    "Our goal is to estimate the values of $b_{0}$ and $b_{1}$ that minimize $\\sum{(y_i-c_{i})}^2$. This is equivalent to minimizing RMSE. \n",
    "\n",
    "The first step is to create four helper functions: \n",
    "- `get_sq_err_loss_slr()`: Returns the squared difference between an observation of the target variable, $y$, and a SLR prediction\n",
    "- `get_rmse_slr()`: Returns the root mean square error. Our objective is to minimize this function. \n",
    "- `get_diff_quo_b0()`: Returns an estimate of the value of the derivative of RMSE at the value of the SLR prediction in the direction of b0\n",
    "- `get_diff_quo_b1()`: Returns an estimate of the value of the derivative of RMSE at the value of the SLR prediction in the direction of b1"
   ]
  },
  {
   "cell_type": "code",
   "execution_count": 97,
   "id": "af47f276-f26c-4611-a4b0-b6026b50079d",
   "metadata": {},
   "outputs": [],
   "source": [
    "def get_sq_err_loss_slr(y, b0, b1, x): \n",
    "    return (y - b0 - b1 * x)**2"
   ]
  },
  {
   "cell_type": "code",
   "execution_count": 98,
   "id": "7d4320a4-8968-4f13-8c4b-92a0a7698f68",
   "metadata": {},
   "outputs": [],
   "source": [
    "def get_rmse_slr(y, b0, b1, x): \n",
    "    \"\"\"\n",
    "    Takes\n",
    "        y: a numeric vector of observations of the target variable\n",
    "        b0: intercept\n",
    "        b1: slope\n",
    "        x: a numeric vector of observations of the predictor variable \n",
    "    Returns \n",
    "        Root Mean Squared Error \n",
    "    \"\"\"\n",
    "    \n",
    "    # Find RMSE\n",
    "    sum = 0\n",
    "\n",
    "    for i in range(0, len(y)): \n",
    "        sum += get_sq_err_loss_slr(y[i], b0, b1, x[i])\n",
    "\n",
    "    avg = sum / len(y)\n",
    "\n",
    "    rmse = np.sqrt(avg)\n",
    "\n",
    "    return rmse"
   ]
  },
  {
   "cell_type": "code",
   "execution_count": 99,
   "id": "1bc80cb8-2e7b-478e-835f-96921e102706",
   "metadata": {},
   "outputs": [],
   "source": [
    "def get_diff_quo_b0(y, b0, delta0, b1, x):\n",
    "    \n",
    "    new_rmse = get_rmse_slr(y = y, b0 = b0 + delta0, b1 = b1, x = x)\n",
    "    old_rmse = get_rmse_slr(y = y, b0 = b0, b1 = b1, x = x)\n",
    "    diff_quo = (new_rmse - old_rmse) / delta0\n",
    "\n",
    "    return diff_quo"
   ]
  },
  {
   "cell_type": "code",
   "execution_count": 100,
   "id": "ceba9702-d693-4e79-a2b1-7d637259e280",
   "metadata": {},
   "outputs": [],
   "source": [
    "def get_diff_quo_b1(y, b0, b1, delta1, x):\n",
    "    \n",
    "    new_rmse = get_rmse_slr(y = y, b0 = b0, b1 = b1 + delta1, x = x)\n",
    "    old_rmse = get_rmse_slr(y = y, b0 = b0, b1 = b1, x = x)\n",
    "    diff_quo = (new_rmse - old_rmse) / delta1\n",
    "\n",
    "    return diff_quo"
   ]
  },
  {
   "cell_type": "markdown",
   "id": "352718da-c51c-4308-856e-412bc3a86218",
   "metadata": {},
   "source": [
    "Now we are ready to create a gradient descent function that incorporates a predictor variable, `get_gd_slr_coeffs()`. \n",
    "\n",
    "This function starts with user specified SLR parameters, `cur_b0` and `cur_b1` and does the following: \n",
    "1) Estimate the value of the derivative of RMSE in the direction of b0 and adjust b0 based on that value. If the value of the derivative is positive, b0 becomes slightly smaller. If it is negative, b0 becomes slightly bigger. \n",
    "2) Estimate the value of the derivative of RMSE in the direction of b1 and adjust b1 based on that value. If the value of the derivative is positive, b1 becomes slightly smaller. If it is negative, b1 becomes slightly bigger. \n",
    "3) Repeat steps 1 and 2 until the adjustments made to b0 and b1 taken together become very small or a user specified maximum number of iterations is reached. "
   ]
  },
  {
   "cell_type": "code",
   "execution_count": 1,
   "id": "18ec6157-663a-4352-95e5-29059a65be82",
   "metadata": {},
   "outputs": [],
   "source": [
    "def get_gd_slr_coeffs(cur_b0, cur_b1, x, y, max_iterations, delta0 = .005, delta1 = .0000001, \n",
    "                      step_size_b0 = 1, step_size_b1 = 0.000005, num_tol = .0001):\n",
    "    \"\"\"\n",
    "    Takes\n",
    "        cur_b0, cur_b1: initial values of SLR parameters \n",
    "        delta0, delta1: used to estimate the derivative of RMSE at b0, b1\n",
    "        x: a numeric vector of predictors \n",
    "        y: a numeric vector of observations of the target variable\n",
    "        max_iterations: how long you want the algorithm to run\n",
    "        step_size_b0, step_size_b1: determine how far the updated parameters\n",
    "            are from the original parameters\n",
    "        num_tol: determines how close the prediction needs to be to the \n",
    "            prediction that minimizes RMSE\n",
    "    Returns a dictionary containing \n",
    "        estimated b0, b1\n",
    "        the number of iterations that ran (so you know whether the algorithm\n",
    "            stopped because your prediction is accurate enough or because you \n",
    "            hit max_iterations)\n",
    "        RMSE \n",
    "    \"\"\"\n",
    "    \n",
    "    iterations = 0\n",
    "\n",
    "    while iterations <= max_iterations: \n",
    "\n",
    "        iterations += 1\n",
    "\n",
    "        # Evaluate at cur_b0 and cur_b1\n",
    "        diff_quo_b0 = get_diff_quo_b0(y = y,\n",
    "                                      b0 = cur_b0, \n",
    "                                      delta0 = delta0,\n",
    "                                      b1 = cur_b1,\n",
    "                                      x = x)\n",
    "\n",
    "        new_b0 = cur_b0 - diff_quo_b0 * step_size_b0\n",
    "\n",
    "        # Evaluate at new_b0 and cur_b1\n",
    "        diff_quo_b1 = get_diff_quo_b1(y = y, \n",
    "                                      b0 = new_b0,\n",
    "                                      b1 = cur_b1,\n",
    "                                      delta1 = delta1,\n",
    "                                      x = x)\n",
    "\n",
    "        new_b1 = cur_b1 - diff_quo_b1 * step_size_b1\n",
    "\n",
    "        # Get distance between vectors\n",
    "        cur = np.array((cur_b0, cur_b1))\n",
    "        new = np.array((new_b0, new_b1))\n",
    "        dist = np.linalg.norm(new - cur)\n",
    "\n",
    "        # If distance is below tolerance, end loop. \n",
    "        if dist < num_tol: \n",
    "            cur_b0 = new_b0\n",
    "            cur_b1 = new_b1\n",
    "            break \n",
    "        else: \n",
    "            cur_b0 = new_b0\n",
    "            cur_b1 = new_b1\n",
    "            \n",
    "    # Make sure the iterations count returned is accurate \n",
    "    if iterations > max_iterations: \n",
    "        iterations = max_iterations \n",
    "        \n",
    "    # Calculate RMSE using the final parameters \n",
    "    rmse = get_rmse_slr(y = y, b0 = cur_b0, b1 = cur_b1, x = x)\n",
    "\n",
    "    return {\"b0\": cur_b0, \n",
    "            \"b1\": cur_b1, \n",
    "            \"RMSE\": rmse,\n",
    "            \"iter\": iterations}"
   ]
  },
  {
   "cell_type": "markdown",
   "id": "11030f22-4bf2-4d52-b2bd-a51c6498c9b1",
   "metadata": {},
   "source": [
    "Let's use `get_gd_slr_coeffs()` to find a reasonable values for $b_{0}$ and $b_{1}$. \n",
    "\n",
    "We will begin with the suggested starting values of $b_{0}=60,000$ and $b_{1}=0$ as well as a maximum of $1,000$ iterations. "
   ]
  },
  {
   "cell_type": "code",
   "execution_count": 102,
   "id": "2e78d3b1-2e8f-470a-a36e-96e10cfb4569",
   "metadata": {},
   "outputs": [
    {
     "name": "stdout",
     "output_type": "stream",
     "text": [
      "Estimate of b0: 60,094.56\n",
      "Estimate of b1: -0.16\n",
      "RMSE: 55,342.51\n",
      "Iterations: 1,000\n"
     ]
    }
   ],
   "source": [
    "params_1 = get_gd_slr_coeffs(cur_b0 = 60000, \n",
    "                                 cur_b1 = 0, \n",
    "                                 x = bike_data.km_driven, \n",
    "                                 y = bike_data.selling_price, \n",
    "                                 max_iterations = 1000)\n",
    "\n",
    "print(\"Estimate of b0: \" + format(round(params_1[\"b0\"], 2), \",\") +\n",
    "      \"\\nEstimate of b1: \" + str(round(params_1[\"b1\"], 2)) +\n",
    "      \"\\nRMSE: \" + format(round(params_1[\"RMSE\"], 2), \",\") +\n",
    "      \"\\nIterations: \" + format(round(params_1[\"iter\"], 2), \",\"))"
   ]
  },
  {
   "cell_type": "markdown",
   "id": "92073c9f-751f-4344-9b1a-a2a0838416cc",
   "metadata": {},
   "source": [
    "The resulting estimates are $b_{0}=60,094.56$ and $b_{1}=-0.16$. But we did hit the maximum number of iterations. So it's worth running the function with more iterations, an increased step size, and/or a larger starting value. "
   ]
  },
  {
   "cell_type": "code",
   "execution_count": 103,
   "id": "8153b881-30d2-48ff-a7a0-382fd8b4e9c2",
   "metadata": {},
   "outputs": [
    {
     "name": "stdout",
     "output_type": "stream",
     "text": [
      "Estimate of b0: 69,941.17\n",
      "Estimate of b1: -0.25\n",
      "RMSE: 55,021.07\n",
      "Iterations: 2,000\n"
     ]
    }
   ],
   "source": [
    "params_2 = get_gd_slr_coeffs(cur_b0 = 70000, \n",
    "                             cur_b1 = -.5, \n",
    "                             x = bike_data.km_driven, \n",
    "                             y = bike_data.selling_price, \n",
    "                             max_iterations = 2000)\n",
    "\n",
    "print(\"Estimate of b0: \" + format(round(params_2[\"b0\"], 2), \",\") +\n",
    "      \"\\nEstimate of b1: \" + str(round(params_2[\"b1\"], 2)) +\n",
    "      \"\\nRMSE: \" + format(round(params_2[\"RMSE\"], 2), \",\") +\n",
    "      \"\\nIterations: \" + format(round(params_2[\"iter\"], 2), \",\"))"
   ]
  },
  {
   "cell_type": "markdown",
   "id": "b7f34238-8677-4f20-9a13-592a8b22efd2",
   "metadata": {},
   "source": [
    "This time, `get_gd_slr_coeffs()` returned an estimate of $b_{0}$ that is smaller than the starting value and an estimate of $b_{1}$ that is larger than the starting value. That tells us that the best value for $b_{0}$ is between $60,000$ and $70,000$, and the best value for $b_{1}$ is between $0$ and $-0.5$ By playing around a little bit, we can home in on a good values for the parameters. "
   ]
  },
  {
   "cell_type": "code",
   "execution_count": 104,
   "id": "15c2e87b-d05a-4447-b0fe-054deddfae17",
   "metadata": {},
   "outputs": [
    {
     "name": "stdout",
     "output_type": "stream",
     "text": [
      "Estimate of b0: 67,615.12\n",
      "Estimate of b1: -0.23\n",
      "RMSE: 54,987.08\n",
      "Iterations: 17\n"
     ]
    }
   ],
   "source": [
    "params_3 = get_gd_slr_coeffs(cur_b0 = 67615, \n",
    "                             cur_b1 = -.3, \n",
    "                             x = bike_data.km_driven, \n",
    "                             y = bike_data.selling_price, \n",
    "                             max_iterations = 5000)\n",
    "\n",
    "print(\"Estimate of b0: \" + format(round(params_3[\"b0\"], 2), \",\") +\n",
    "      \"\\nEstimate of b1: \" + str(round(params_3[\"b1\"], 2)) +\n",
    "      \"\\nRMSE: \" + format(round(params_3[\"RMSE\"], 2), \",\") +\n",
    "      \"\\nIterations: \" + format(round(params_3[\"iter\"], 2), \",\"))"
   ]
  },
  {
   "cell_type": "markdown",
   "id": "d9ec2c21-758a-4821-84a6-6b70766deb80",
   "metadata": {},
   "source": [
    "$67,615.12$ and $-0.23$ appear to be good estimates for $b_{0}$ and $b_{1}$, respectively. The algorithm stopped before the maximum number of iterations was reached, which means that, even if we let it continue running, the estimates of $b_{0}$ and $b_{1}$ wouldn't have changed very much. \n",
    "\n",
    "Let's use these values of $b_{0}$ and $b_{1}$ to predict the `selling_price` of bikes driven $10,000$, $25,000$, and $35,000$ kilometers.  "
   ]
  },
  {
   "cell_type": "code",
   "execution_count": 105,
   "id": "23d317e0-5bcc-461b-a374-088b8991b77c",
   "metadata": {},
   "outputs": [
    {
     "name": "stdout",
     "output_type": "stream",
     "text": [
      "We predict that a bike that has been driven 10,000 km will sell for 65,292.47 rupees.\n",
      "We predict that a bike that has been driven 25,000 km will sell for 61,808.5 rupees.\n",
      "We predict that a bike that has been driven 35,000 km will sell for 59,485.85 rupees.\n"
     ]
    }
   ],
   "source": [
    "selling_price_10 = params_3[\"b0\"] + params_3[\"b1\"]*10000\n",
    "selling_price_25 = params_3[\"b0\"] + params_3[\"b1\"]*25000\n",
    "selling_price_35 = params_3[\"b0\"] + params_3[\"b1\"]*35000\n",
    "\n",
    "print(\"We predict that a bike that has been driven 10,000 km will sell for \" + \\\n",
    "      format(round(selling_price_10, 2), \",\") + \" rupees.\" +\n",
    "      \"\\nWe predict that a bike that has been driven 25,000 km will sell for \" + \\\n",
    "      format(round(selling_price_25, 2), \",\") + \" rupees.\" +\n",
    "      \"\\nWe predict that a bike that has been driven 35,000 km will sell for \" + \\\n",
    "      format(round(selling_price_35, 2), \",\") + \" rupees.\")"
   ]
  }
 ],
 "metadata": {
  "kernelspec": {
   "display_name": "Python 3 (ipykernel)",
   "language": "python",
   "name": "python3"
  },
  "language_info": {
   "codemirror_mode": {
    "name": "ipython",
    "version": 3
   },
   "file_extension": ".py",
   "mimetype": "text/x-python",
   "name": "python",
   "nbconvert_exporter": "python",
   "pygments_lexer": "ipython3",
   "version": "3.10.1"
  }
 },
 "nbformat": 4,
 "nbformat_minor": 5
}
