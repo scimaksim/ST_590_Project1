{
 "cells": [
  {
   "cell_type": "markdown",
   "id": "e19dcdc4-5e5a-408b-94a7-945c043c5e0f",
   "metadata": {},
   "source": [
    "# <center>Project 1</center>"
   ]
  },
  {
   "cell_type": "markdown",
   "id": "10c2a9b0-b9b8-459c-887e-620015fd9c44",
   "metadata": {},
   "source": [
    "Authored by Joshua Burrows and Maksim Nikiforov."
   ]
  },
  {
   "cell_type": "markdown",
   "id": "d2135c29-cc89-48e8-9e61-55050395b814",
   "metadata": {},
   "source": [
    "## <center>1 Introduction</center>"
   ]
  },
  {
   "cell_type": "markdown",
   "id": "166aa04a-498c-4b45-b50a-067bf06ba8d6",
   "metadata": {},
   "source": [
    "To do (Maksim)."
   ]
  },
  {
   "cell_type": "code",
   "execution_count": 1,
   "id": "c7bd2671-dd81-4d7d-98c5-d256e049f5da",
   "metadata": {},
   "outputs": [
    {
     "data": {
      "text/html": [
       "<div>\n",
       "<style scoped>\n",
       "    .dataframe tbody tr th:only-of-type {\n",
       "        vertical-align: middle;\n",
       "    }\n",
       "\n",
       "    .dataframe tbody tr th {\n",
       "        vertical-align: top;\n",
       "    }\n",
       "\n",
       "    .dataframe thead th {\n",
       "        text-align: right;\n",
       "    }\n",
       "</style>\n",
       "<table border=\"1\" class=\"dataframe\">\n",
       "  <thead>\n",
       "    <tr style=\"text-align: right;\">\n",
       "      <th></th>\n",
       "      <th>name</th>\n",
       "      <th>selling_price</th>\n",
       "      <th>year</th>\n",
       "      <th>seller_type</th>\n",
       "      <th>owner</th>\n",
       "      <th>km_driven</th>\n",
       "      <th>ex_showroom_price</th>\n",
       "    </tr>\n",
       "  </thead>\n",
       "  <tbody>\n",
       "    <tr>\n",
       "      <th>0</th>\n",
       "      <td>Royal Enfield Classic 350</td>\n",
       "      <td>175000</td>\n",
       "      <td>2019</td>\n",
       "      <td>Individual</td>\n",
       "      <td>1st owner</td>\n",
       "      <td>350</td>\n",
       "      <td>NaN</td>\n",
       "    </tr>\n",
       "    <tr>\n",
       "      <th>1</th>\n",
       "      <td>Honda Dio</td>\n",
       "      <td>45000</td>\n",
       "      <td>2017</td>\n",
       "      <td>Individual</td>\n",
       "      <td>1st owner</td>\n",
       "      <td>5650</td>\n",
       "      <td>NaN</td>\n",
       "    </tr>\n",
       "    <tr>\n",
       "      <th>2</th>\n",
       "      <td>Royal Enfield Classic Gunmetal Grey</td>\n",
       "      <td>150000</td>\n",
       "      <td>2018</td>\n",
       "      <td>Individual</td>\n",
       "      <td>1st owner</td>\n",
       "      <td>12000</td>\n",
       "      <td>148114.0</td>\n",
       "    </tr>\n",
       "    <tr>\n",
       "      <th>3</th>\n",
       "      <td>Yamaha Fazer FI V 2.0 [2016-2018]</td>\n",
       "      <td>65000</td>\n",
       "      <td>2015</td>\n",
       "      <td>Individual</td>\n",
       "      <td>1st owner</td>\n",
       "      <td>23000</td>\n",
       "      <td>89643.0</td>\n",
       "    </tr>\n",
       "    <tr>\n",
       "      <th>4</th>\n",
       "      <td>Yamaha SZ [2013-2014]</td>\n",
       "      <td>20000</td>\n",
       "      <td>2011</td>\n",
       "      <td>Individual</td>\n",
       "      <td>2nd owner</td>\n",
       "      <td>21000</td>\n",
       "      <td>NaN</td>\n",
       "    </tr>\n",
       "  </tbody>\n",
       "</table>\n",
       "</div>"
      ],
      "text/plain": [
       "                                  name  selling_price  year seller_type  \\\n",
       "0            Royal Enfield Classic 350         175000  2019  Individual   \n",
       "1                            Honda Dio          45000  2017  Individual   \n",
       "2  Royal Enfield Classic Gunmetal Grey         150000  2018  Individual   \n",
       "3    Yamaha Fazer FI V 2.0 [2016-2018]          65000  2015  Individual   \n",
       "4                Yamaha SZ [2013-2014]          20000  2011  Individual   \n",
       "\n",
       "       owner  km_driven  ex_showroom_price  \n",
       "0  1st owner        350                NaN  \n",
       "1  1st owner       5650                NaN  \n",
       "2  1st owner      12000           148114.0  \n",
       "3  1st owner      23000            89643.0  \n",
       "4  2nd owner      21000                NaN  "
      ]
     },
     "execution_count": 1,
     "metadata": {},
     "output_type": "execute_result"
    }
   ],
   "source": [
    "import pandas as pd\n",
    "import matplotlib.pyplot as plt\n",
    "import numpy as np\n",
    "import scipy.stats as stats\n",
    "\n",
    "# Read in the data\n",
    "bike_data = pd.read_csv(\"bikeDetails.csv\")\n",
    "\n",
    "# Display a small snippet of it\n",
    "bike_data.head()"
   ]
  },
  {
   "cell_type": "code",
   "execution_count": 2,
   "id": "1c5dc8bc-194d-4511-a1c3-d00ca3b9111d",
   "metadata": {},
   "outputs": [],
   "source": [
    "# Convert categorical variables to type \"category\"\n",
    "bike_data.seller_type = bike_data.seller_type.astype(\"category\")\n",
    "bike_data.owner = bike_data.owner.astype(\"category\")"
   ]
  },
  {
   "cell_type": "markdown",
   "id": "5ec4c639-912e-4c49-90b9-a8e8dd868780",
   "metadata": {},
   "source": [
    "## <center>2 Exploratory Data Analysis</center>\n",
    "### <center>2.1 Numeric Summaries</center>"
   ]
  },
  {
   "cell_type": "code",
   "execution_count": 3,
   "id": "5b4aa762-6542-461b-b9cf-a7fc586cb4a4",
   "metadata": {},
   "outputs": [
    {
     "data": {
      "text/html": [
       "<div>\n",
       "<style scoped>\n",
       "    .dataframe tbody tr th:only-of-type {\n",
       "        vertical-align: middle;\n",
       "    }\n",
       "\n",
       "    .dataframe tbody tr th {\n",
       "        vertical-align: top;\n",
       "    }\n",
       "\n",
       "    .dataframe thead th {\n",
       "        text-align: right;\n",
       "    }\n",
       "</style>\n",
       "<table border=\"1\" class=\"dataframe\">\n",
       "  <thead>\n",
       "    <tr style=\"text-align: right;\">\n",
       "      <th></th>\n",
       "      <th>selling_price</th>\n",
       "      <th>km_driven</th>\n",
       "      <th>ex_showroom_price</th>\n",
       "    </tr>\n",
       "  </thead>\n",
       "  <tbody>\n",
       "    <tr>\n",
       "      <th>count</th>\n",
       "      <td>1061.0</td>\n",
       "      <td>1061.0</td>\n",
       "      <td>626.0</td>\n",
       "    </tr>\n",
       "    <tr>\n",
       "      <th>mean</th>\n",
       "      <td>59638.2</td>\n",
       "      <td>34359.8</td>\n",
       "      <td>87958.7</td>\n",
       "    </tr>\n",
       "    <tr>\n",
       "      <th>std</th>\n",
       "      <td>56304.3</td>\n",
       "      <td>51623.2</td>\n",
       "      <td>77496.6</td>\n",
       "    </tr>\n",
       "    <tr>\n",
       "      <th>min</th>\n",
       "      <td>5000.0</td>\n",
       "      <td>350.0</td>\n",
       "      <td>30490.0</td>\n",
       "    </tr>\n",
       "    <tr>\n",
       "      <th>25%</th>\n",
       "      <td>28000.0</td>\n",
       "      <td>13500.0</td>\n",
       "      <td>54852.0</td>\n",
       "    </tr>\n",
       "    <tr>\n",
       "      <th>50%</th>\n",
       "      <td>45000.0</td>\n",
       "      <td>25000.0</td>\n",
       "      <td>72752.5</td>\n",
       "    </tr>\n",
       "    <tr>\n",
       "      <th>75%</th>\n",
       "      <td>70000.0</td>\n",
       "      <td>43000.0</td>\n",
       "      <td>87031.5</td>\n",
       "    </tr>\n",
       "    <tr>\n",
       "      <th>max</th>\n",
       "      <td>760000.0</td>\n",
       "      <td>880000.0</td>\n",
       "      <td>1278000.0</td>\n",
       "    </tr>\n",
       "  </tbody>\n",
       "</table>\n",
       "</div>"
      ],
      "text/plain": [
       "       selling_price  km_driven  ex_showroom_price\n",
       "count         1061.0     1061.0              626.0\n",
       "mean         59638.2    34359.8            87958.7\n",
       "std          56304.3    51623.2            77496.6\n",
       "min           5000.0      350.0            30490.0\n",
       "25%          28000.0    13500.0            54852.0\n",
       "50%          45000.0    25000.0            72752.5\n",
       "75%          70000.0    43000.0            87031.5\n",
       "max         760000.0   880000.0          1278000.0"
      ]
     },
     "execution_count": 3,
     "metadata": {},
     "output_type": "execute_result"
    }
   ],
   "source": [
    "num_vars = bike_data[[\"selling_price\", \"km_driven\", \"ex_showroom_price\"]]\n",
    "num_vars.describe().round(1)"
   ]
  },
  {
   "cell_type": "code",
   "execution_count": 27,
   "id": "86a3da83-6758-450f-b95d-9cb3e3a6b528",
   "metadata": {},
   "outputs": [
    {
     "data": {
      "text/html": [
       "<div>\n",
       "<style scoped>\n",
       "    .dataframe tbody tr th:only-of-type {\n",
       "        vertical-align: middle;\n",
       "    }\n",
       "\n",
       "    .dataframe tbody tr th {\n",
       "        vertical-align: top;\n",
       "    }\n",
       "\n",
       "    .dataframe thead th {\n",
       "        text-align: right;\n",
       "    }\n",
       "</style>\n",
       "<table border=\"1\" class=\"dataframe\">\n",
       "  <thead>\n",
       "    <tr style=\"text-align: right;\">\n",
       "      <th></th>\n",
       "      <th>max_selling_price</th>\n",
       "      <th>min_selling_price</th>\n",
       "      <th>standard_dev</th>\n",
       "      <th>num_sold</th>\n",
       "    </tr>\n",
       "    <tr>\n",
       "      <th>year</th>\n",
       "      <th></th>\n",
       "      <th></th>\n",
       "      <th></th>\n",
       "      <th></th>\n",
       "    </tr>\n",
       "  </thead>\n",
       "  <tbody>\n",
       "    <tr>\n",
       "      <th>2020</th>\n",
       "      <td>190000</td>\n",
       "      <td>175000</td>\n",
       "      <td>7637.6</td>\n",
       "      <td>3</td>\n",
       "    </tr>\n",
       "    <tr>\n",
       "      <th>2019</th>\n",
       "      <td>760000</td>\n",
       "      <td>40000</td>\n",
       "      <td>96703.4</td>\n",
       "      <td>86</td>\n",
       "    </tr>\n",
       "    <tr>\n",
       "      <th>2018</th>\n",
       "      <td>300000</td>\n",
       "      <td>30000</td>\n",
       "      <td>46394.5</td>\n",
       "      <td>131</td>\n",
       "    </tr>\n",
       "    <tr>\n",
       "      <th>2017</th>\n",
       "      <td>425000</td>\n",
       "      <td>18000</td>\n",
       "      <td>50627.9</td>\n",
       "      <td>133</td>\n",
       "    </tr>\n",
       "    <tr>\n",
       "      <th>2016</th>\n",
       "      <td>300000</td>\n",
       "      <td>23000</td>\n",
       "      <td>36006.2</td>\n",
       "      <td>107</td>\n",
       "    </tr>\n",
       "    <tr>\n",
       "      <th>2015</th>\n",
       "      <td>185000</td>\n",
       "      <td>20000</td>\n",
       "      <td>35627.3</td>\n",
       "      <td>100</td>\n",
       "    </tr>\n",
       "    <tr>\n",
       "      <th>2014</th>\n",
       "      <td>330000</td>\n",
       "      <td>15000</td>\n",
       "      <td>36973.1</td>\n",
       "      <td>91</td>\n",
       "    </tr>\n",
       "    <tr>\n",
       "      <th>2013</th>\n",
       "      <td>750000</td>\n",
       "      <td>15000</td>\n",
       "      <td>85138.2</td>\n",
       "      <td>73</td>\n",
       "    </tr>\n",
       "    <tr>\n",
       "      <th>2012</th>\n",
       "      <td>100000</td>\n",
       "      <td>12000</td>\n",
       "      <td>19431.2</td>\n",
       "      <td>70</td>\n",
       "    </tr>\n",
       "    <tr>\n",
       "      <th>2011</th>\n",
       "      <td>300000</td>\n",
       "      <td>15000</td>\n",
       "      <td>37992.1</td>\n",
       "      <td>61</td>\n",
       "    </tr>\n",
       "    <tr>\n",
       "      <th>2010</th>\n",
       "      <td>125000</td>\n",
       "      <td>15000</td>\n",
       "      <td>19387.3</td>\n",
       "      <td>60</td>\n",
       "    </tr>\n",
       "  </tbody>\n",
       "</table>\n",
       "</div>"
      ],
      "text/plain": [
       "      max_selling_price  min_selling_price  standard_dev  num_sold\n",
       "year                                                              \n",
       "2020             190000             175000        7637.6         3\n",
       "2019             760000              40000       96703.4        86\n",
       "2018             300000              30000       46394.5       131\n",
       "2017             425000              18000       50627.9       133\n",
       "2016             300000              23000       36006.2       107\n",
       "2015             185000              20000       35627.3       100\n",
       "2014             330000              15000       36973.1        91\n",
       "2013             750000              15000       85138.2        73\n",
       "2012             100000              12000       19431.2        70\n",
       "2011             300000              15000       37992.1        61\n",
       "2010             125000              15000       19387.3        60"
      ]
     },
     "execution_count": 27,
     "metadata": {},
     "output_type": "execute_result"
    }
   ],
   "source": [
    "# Create numeric summaries for selling_price and group by year\n",
    "annual_num_summaries = bike_data \\\n",
    ".groupby(\"year\") \\\n",
    ".agg(\n",
    "    max_selling_price = (\"selling_price\", max), \n",
    "    min_selling_price = (\"selling_price\", min),\n",
    "    standard_dev = (\"selling_price\", np.std)\n",
    ")\n",
    "\n",
    "# Identify number of motorcycles sold every year\n",
    "num_sold = bike_data[[\"year\", \"name\"]].groupby(\"year\").count().sort_values(by=\"year\", ascending=False)\n",
    "\n",
    "# Merge number of motorcycles sold every year into our summaries data frame\n",
    "annual_num_summaries[\"num_sold\"] = num_sold[\"name\"]\n",
    "\n",
    "# Display numeric summaries for the last 10 years while rounding standard deviation\n",
    "annual_num_summaries.sort_values(by=\"year\", ascending=False).head(11).round(1)"
   ]
  },
  {
   "cell_type": "code",
   "execution_count": 4,
   "id": "87596308-08d1-41a6-8d67-cdc6f3e9402c",
   "metadata": {},
   "outputs": [
    {
     "data": {
      "text/html": [
       "<div>\n",
       "<style scoped>\n",
       "    .dataframe tbody tr th:only-of-type {\n",
       "        vertical-align: middle;\n",
       "    }\n",
       "\n",
       "    .dataframe tbody tr th {\n",
       "        vertical-align: top;\n",
       "    }\n",
       "\n",
       "    .dataframe thead th {\n",
       "        text-align: right;\n",
       "    }\n",
       "</style>\n",
       "<table border=\"1\" class=\"dataframe\">\n",
       "  <thead>\n",
       "    <tr style=\"text-align: right;\">\n",
       "      <th></th>\n",
       "      <th>mean_selling_price</th>\n",
       "      <th>mean_km_driven</th>\n",
       "      <th>num_sold</th>\n",
       "    </tr>\n",
       "    <tr>\n",
       "      <th>name</th>\n",
       "      <th></th>\n",
       "      <th></th>\n",
       "      <th></th>\n",
       "    </tr>\n",
       "  </thead>\n",
       "  <tbody>\n",
       "    <tr>\n",
       "      <th>Suzuki GSX S750</th>\n",
       "      <td>760000.0</td>\n",
       "      <td>2800.0</td>\n",
       "      <td>1</td>\n",
       "    </tr>\n",
       "    <tr>\n",
       "      <th>Harley-Davidson Street Bob</th>\n",
       "      <td>750000.0</td>\n",
       "      <td>12000.0</td>\n",
       "      <td>1</td>\n",
       "    </tr>\n",
       "    <tr>\n",
       "      <th>Yamaha YZF R3</th>\n",
       "      <td>365000.0</td>\n",
       "      <td>1127.0</td>\n",
       "      <td>1</td>\n",
       "    </tr>\n",
       "    <tr>\n",
       "      <th>Kawasaki Ninja 650 [2018-2019]</th>\n",
       "      <td>362500.0</td>\n",
       "      <td>12800.0</td>\n",
       "      <td>2</td>\n",
       "    </tr>\n",
       "    <tr>\n",
       "      <th>Harley-Davidson Street 750</th>\n",
       "      <td>330000.0</td>\n",
       "      <td>6500.0</td>\n",
       "      <td>1</td>\n",
       "    </tr>\n",
       "    <tr>\n",
       "      <th>Kawasaki Ninja 300</th>\n",
       "      <td>300000.0</td>\n",
       "      <td>9800.0</td>\n",
       "      <td>1</td>\n",
       "    </tr>\n",
       "    <tr>\n",
       "      <th>BMW G310GS</th>\n",
       "      <td>300000.0</td>\n",
       "      <td>2500.0</td>\n",
       "      <td>1</td>\n",
       "    </tr>\n",
       "    <tr>\n",
       "      <th>Royal Enfield Continental GT 650</th>\n",
       "      <td>299000.0</td>\n",
       "      <td>1500.0</td>\n",
       "      <td>1</td>\n",
       "    </tr>\n",
       "    <tr>\n",
       "      <th>Royal Enfield Interceptor 650</th>\n",
       "      <td>271667.0</td>\n",
       "      <td>5233.0</td>\n",
       "      <td>3</td>\n",
       "    </tr>\n",
       "    <tr>\n",
       "      <th>KTM RC 390</th>\n",
       "      <td>220000.0</td>\n",
       "      <td>6052.0</td>\n",
       "      <td>3</td>\n",
       "    </tr>\n",
       "  </tbody>\n",
       "</table>\n",
       "</div>"
      ],
      "text/plain": [
       "                                  mean_selling_price  mean_km_driven  num_sold\n",
       "name                                                                          \n",
       "Suzuki GSX S750                             760000.0          2800.0         1\n",
       "Harley-Davidson Street Bob                  750000.0         12000.0         1\n",
       "Yamaha YZF R3                               365000.0          1127.0         1\n",
       "Kawasaki Ninja 650 [2018-2019]              362500.0         12800.0         2\n",
       "Harley-Davidson Street 750                  330000.0          6500.0         1\n",
       "Kawasaki Ninja 300                          300000.0          9800.0         1\n",
       "BMW G310GS                                  300000.0          2500.0         1\n",
       "Royal Enfield Continental GT 650            299000.0          1500.0         1\n",
       "Royal Enfield Interceptor 650               271667.0          5233.0         3\n",
       "KTM RC 390                                  220000.0          6052.0         3"
      ]
     },
     "execution_count": 4,
     "metadata": {},
     "output_type": "execute_result"
    }
   ],
   "source": [
    "# Create average price and km summaries for motorcycles\n",
    "highest_lowest_selling = bike_data \\\n",
    ".groupby(\"name\") \\\n",
    ".agg(\n",
    "    mean_selling_price = (\"selling_price\", np.mean),\n",
    "    mean_km_driven = (\"km_driven\", np.mean)\n",
    ")\n",
    "\n",
    "# Count number of sales for each make and model\n",
    "names_sold = bike_data \\\n",
    ".groupby(\"name\").count()\n",
    "\n",
    "# Merge number of sales into price and km data frame\n",
    "highest_lowest_selling[\"num_sold\"] = names_sold[\"selling_price\"]\n",
    "\n",
    "# Show top 10 highest-priced motorcyles\n",
    "highest_lowest_selling.sort_values(by=\"mean_selling_price\", ascending=False).head(10).round(0)"
   ]
  },
  {
   "cell_type": "code",
   "execution_count": 5,
   "id": "852f111c-525f-4a7f-937a-3911cf88316f",
   "metadata": {},
   "outputs": [
    {
     "data": {
      "text/html": [
       "<div>\n",
       "<style scoped>\n",
       "    .dataframe tbody tr th:only-of-type {\n",
       "        vertical-align: middle;\n",
       "    }\n",
       "\n",
       "    .dataframe tbody tr th {\n",
       "        vertical-align: top;\n",
       "    }\n",
       "\n",
       "    .dataframe thead th {\n",
       "        text-align: right;\n",
       "    }\n",
       "</style>\n",
       "<table border=\"1\" class=\"dataframe\">\n",
       "  <thead>\n",
       "    <tr style=\"text-align: right;\">\n",
       "      <th></th>\n",
       "      <th>mean_selling_price</th>\n",
       "      <th>mean_km_driven</th>\n",
       "      <th>num_sold</th>\n",
       "    </tr>\n",
       "    <tr>\n",
       "      <th>name</th>\n",
       "      <th></th>\n",
       "      <th></th>\n",
       "      <th></th>\n",
       "    </tr>\n",
       "  </thead>\n",
       "  <tbody>\n",
       "    <tr>\n",
       "      <th>TVS Excel</th>\n",
       "      <td>5000.0</td>\n",
       "      <td>60000.0</td>\n",
       "      <td>1</td>\n",
       "    </tr>\n",
       "    <tr>\n",
       "      <th>Hero Honda Passion</th>\n",
       "      <td>9000.0</td>\n",
       "      <td>66191.0</td>\n",
       "      <td>1</td>\n",
       "    </tr>\n",
       "    <tr>\n",
       "      <th>Hero Honda CD100SS</th>\n",
       "      <td>10000.0</td>\n",
       "      <td>646000.0</td>\n",
       "      <td>1</td>\n",
       "    </tr>\n",
       "    <tr>\n",
       "      <th>Hero Honda CBZ</th>\n",
       "      <td>10000.0</td>\n",
       "      <td>48000.0</td>\n",
       "      <td>1</td>\n",
       "    </tr>\n",
       "    <tr>\n",
       "      <th>TVS Centra</th>\n",
       "      <td>10000.0</td>\n",
       "      <td>50000.0</td>\n",
       "      <td>1</td>\n",
       "    </tr>\n",
       "    <tr>\n",
       "      <th>Hero Honda Street Smart</th>\n",
       "      <td>10000.0</td>\n",
       "      <td>24000.0</td>\n",
       "      <td>1</td>\n",
       "    </tr>\n",
       "    <tr>\n",
       "      <th>Bajaj Boxer</th>\n",
       "      <td>12333.0</td>\n",
       "      <td>21833.0</td>\n",
       "      <td>3</td>\n",
       "    </tr>\n",
       "    <tr>\n",
       "      <th>Bajaj Super</th>\n",
       "      <td>13000.0</td>\n",
       "      <td>28000.0</td>\n",
       "      <td>2</td>\n",
       "    </tr>\n",
       "    <tr>\n",
       "      <th>TVS Scooty Pep DLX</th>\n",
       "      <td>14500.0</td>\n",
       "      <td>44000.0</td>\n",
       "      <td>1</td>\n",
       "    </tr>\n",
       "    <tr>\n",
       "      <th>TVS Flame</th>\n",
       "      <td>15000.0</td>\n",
       "      <td>12000.0</td>\n",
       "      <td>1</td>\n",
       "    </tr>\n",
       "  </tbody>\n",
       "</table>\n",
       "</div>"
      ],
      "text/plain": [
       "                         mean_selling_price  mean_km_driven  num_sold\n",
       "name                                                                 \n",
       "TVS Excel                            5000.0         60000.0         1\n",
       "Hero Honda Passion                   9000.0         66191.0         1\n",
       "Hero Honda CD100SS                  10000.0        646000.0         1\n",
       "Hero Honda CBZ                      10000.0         48000.0         1\n",
       "TVS Centra                          10000.0         50000.0         1\n",
       "Hero Honda Street Smart             10000.0         24000.0         1\n",
       "Bajaj Boxer                         12333.0         21833.0         3\n",
       "Bajaj Super                         13000.0         28000.0         2\n",
       "TVS Scooty Pep DLX                  14500.0         44000.0         1\n",
       "TVS Flame                           15000.0         12000.0         1"
      ]
     },
     "execution_count": 5,
     "metadata": {},
     "output_type": "execute_result"
    }
   ],
   "source": [
    "# Show top 10 lowest-priced motorcyles\n",
    "highest_lowest_selling.sort_values(by=\"mean_selling_price\", ascending=True).head(10).round(0)"
   ]
  },
  {
   "cell_type": "markdown",
   "id": "915364e8-b40a-4d60-a66c-9dcb4d33d202",
   "metadata": {},
   "source": [
    "### <center>2.2 Scatter Plots</center>"
   ]
  },
  {
   "cell_type": "markdown",
   "id": "70606718-ad42-4423-8f39-6627a32ee02b",
   "metadata": {},
   "source": [
    "Scatter plots of *Selling Price* against the other numeric variables. "
   ]
  },
  {
   "cell_type": "code",
   "execution_count": 6,
   "id": "42cc7221-36c7-4dd8-a116-0175c449dd29",
   "metadata": {
    "tags": []
   },
   "outputs": [
    {
     "data": {
      "image/png": "[encoded data removed]",
      "text/plain": [
       "<Figure size 432x288 with 1 Axes>"
      ]
     },
     "metadata": {
      "needs_background": "light"
     },
     "output_type": "display_data"
    }
   ],
   "source": [
    "# What is the unit of selling_price? Is it in cents? \n",
    "\n",
    "# Create a scatter plot of Selling Price and Year\n",
    "year_sp_corr, _ = stats.pearsonr(x = bike_data.year, y = bike_data.selling_price)\n",
    "\n",
    "bike_data.plot.scatter(x = \"year\", y = \"selling_price\")\n",
    "plt.title(\"Selling Price Vs. Year\")\n",
    "plt.xlabel(\"Year\")\n",
    "plt.ylabel(\"Selling Price\")\n",
    "plt.yticks(ticks = [0, 100000, 200000, 300000, 400000, 500000, 600000, 700000],\n",
    "           labels = [\"0\", \"100,000\", \"200,000\", \"300,000\", \"400,000\", \"500,000\", \"600,000\", \"700,000\"])\n",
    "plt.text(1990, 500000, \"Corr: \" + str(round(year_sp_corr, 2)), fontsize = 14)\n",
    "plt.show()"
   ]
  },
  {
   "cell_type": "markdown",
   "id": "ceaf61e4-2f1a-4c1e-9d0b-0fcc80484033",
   "metadata": {},
   "source": [
    "There is a mild correlation between *Selling Price* and *Year*. But the scatter plot suggests a quadratic relationship. Since, taking the log turns quadratic things into linear things, it's worth plotting the log of *Selling Price* against *Year* to see what we find. "
   ]
  },
  {
   "cell_type": "code",
   "execution_count": 7,
   "id": "f551cd43-a1a6-4058-af8f-4295f0cf8f8d",
   "metadata": {},
   "outputs": [],
   "source": [
    "bike_data[\"log_selling_price\"] = np.log(bike_data.selling_price)"
   ]
  },
  {
   "cell_type": "code",
   "execution_count": 8,
   "id": "ea794ead-e9db-4236-bf65-7e6e2895f252",
   "metadata": {},
   "outputs": [
    {
     "data": {
      "image/png": "[encoded data removed]",
      "text/plain": [
       "<Figure size 432x288 with 1 Axes>"
      ]
     },
     "metadata": {
      "needs_background": "light"
     },
     "output_type": "display_data"
    }
   ],
   "source": [
    "# Create a scatter plot of Log Selling Price and Year \n",
    "year_log_sp_corr, _ = stats.pearsonr(x = bike_data.year, y = bike_data.log_selling_price)\n",
    "\n",
    "bike_data.plot.scatter(x = \"year\", y = \"log_selling_price\")\n",
    "plt.title(\"Log Selling Price Vs. Year\")\n",
    "plt.xlabel(\"Year\")\n",
    "plt.ylabel(\"Log Selling Price\")\n",
    "plt.text(1990, 13, \"Corr: \" + str(round(year_log_sp_corr, 2)), fontsize = 14)\n",
    "plt.show()"
   ]
  },
  {
   "cell_type": "markdown",
   "id": "7e1a3c3d-8e5e-45d7-b77a-7a5067e2704c",
   "metadata": {},
   "source": [
    "There is in fact a stronger linear relationship between the log of *Selling Price* and *Year*. "
   ]
  },
  {
   "cell_type": "code",
   "execution_count": 9,
   "id": "ca9b26d7-20dc-4fb0-9f01-638f00718a7c",
   "metadata": {},
   "outputs": [
    {
     "data": {
      "image/png": "[encoded data removed]",
      "text/plain": [
       "<Figure size 432x288 with 1 Axes>"
      ]
     },
     "metadata": {
      "needs_background": "light"
     },
     "output_type": "display_data"
    }
   ],
   "source": [
    "# Create a scatter plot of Selling Price and Km Driven\n",
    "km_sp_corr, _ = stats.pearsonr(x = bike_data.km_driven, y = bike_data.selling_price)\n",
    "\n",
    "bike_data.plot.scatter(x = \"km_driven\", y = \"selling_price\")\n",
    "plt.title(\"Selling Price Vs. Kilometers Driven\")\n",
    "plt.xlabel(\"Kilometers Driven\")\n",
    "plt.ylabel(\"Selling Price\")\n",
    "plt.xticks(ticks = [0, 200000, 400000, 600000, 800000],\n",
    "           labels = [\"0\", \"200,000\", \"400,000\", \"600,000\", \"800,000\"])\n",
    "plt.text(400000, 500000, \"Corr: \" + str(round(km_sp_corr, 2)), fontsize = 14)\n",
    "plt.show()"
   ]
  },
  {
   "cell_type": "markdown",
   "id": "d2e813fe-e7d0-4eb9-9481-8caf16e002bb",
   "metadata": {},
   "source": [
    "There is a weak linear relationship between *Selling Price* and *Kilometers Driven*. But it is clear that that relationship will get stronger if we remove the outliers. Let's see what happens when bikes with greater than 200,000 km are removed. "
   ]
  },
  {
   "cell_type": "code",
   "execution_count": 10,
   "id": "0f128c61-89a1-41de-bf72-3188fa200a01",
   "metadata": {},
   "outputs": [
    {
     "data": {
      "image/png": "[encoded data removed]",
      "text/plain": [
       "<Figure size 432x288 with 1 Axes>"
      ]
     },
     "metadata": {
      "needs_background": "light"
     },
     "output_type": "display_data"
    }
   ],
   "source": [
    "# Try without outlier kilometerage \n",
    "bike_data_low_km = bike_data[bike_data.km_driven <= 200000]\n",
    "\n",
    "km_sp_corr_low_km, _ = stats.pearsonr(x = bike_data_low_km.km_driven, \n",
    "                                      y = bike_data_low_km.selling_price)\n",
    "\n",
    "bike_data_low_km.plot.scatter(x = \"km_driven\", y = \"selling_price\")\n",
    "plt.title(\"Selling Price Vs. Kilometers Driven\")\n",
    "plt.xlabel(\"Kilometers Driven\")\n",
    "plt.ylabel(\"Selling Price\")\n",
    "plt.text(40000, 400000, \"Corr: \" + str(round(km_sp_corr_low_km, 2)), fontsize = 14)\n",
    "plt.text(-7000, -200000, \"*Bikes with over 200,000 km excluded\", fontsize = 8)\n",
    "plt.show()"
   ]
  },
  {
   "cell_type": "markdown",
   "id": "2e650ced-4ee4-4031-a6df-ac6c6788793d",
   "metadata": {},
   "source": [
    "The linear relationship does in fact get stronger when the outliers are removed. Is removing the outliers justified? It is plausible that sales of high kilometerage bikes are rare, so we may not have enough data on those sales for a pattern to emerge. So it does not seem unreasonable to remove the outliers in this case.  \n",
    "<br>\n",
    "Again, the relationship appears quadratic, so let's take the log. "
   ]
  },
  {
   "cell_type": "code",
   "execution_count": 11,
   "id": "5fd0897e-eeb4-42d4-b454-0f92ec14ffa3",
   "metadata": {},
   "outputs": [
    {
     "data": {
      "image/png": "[encoded data removed]",
      "text/plain": [
       "<Figure size 432x288 with 1 Axes>"
      ]
     },
     "metadata": {
      "needs_background": "light"
     },
     "output_type": "display_data"
    }
   ],
   "source": [
    "# Now there appears to be a quadratic relationship. Try log. \n",
    "km_log_sp_corr_low_km, _ = stats.pearsonr(x = bike_data_low_km.km_driven, \n",
    "                                          y = bike_data_low_km.log_selling_price)\n",
    "\n",
    "bike_data_low_km.plot.scatter(x = \"km_driven\", y = \"log_selling_price\")\n",
    "plt.title(\"Log Selling Price Vs. Kilometers Driven\")\n",
    "plt.xlabel(\"Kilometers Driven\")\n",
    "plt.ylabel(\"Log Selling Price\")\n",
    "plt.text(80000, 13, \"Corr: \" + str(round(km_log_sp_corr_low_km, 2)), fontsize = 14)\n",
    "plt.text(-7000, 7.2, \"*Bikes with over 200,000 km excluded\", fontsize = 8)\n",
    "plt.show()"
   ]
  },
  {
   "cell_type": "markdown",
   "id": "6c3a6466-9893-45d6-9d40-86b7080bc8c1",
   "metadata": {},
   "source": [
    "After removing outliers and taking the log, a stronger linear relationship is uncovered. "
   ]
  },
  {
   "cell_type": "code",
   "execution_count": 12,
   "id": "a7dd3b28-9f40-4d29-b616-2cef56b93b22",
   "metadata": {
    "tags": []
   },
   "outputs": [
    {
     "data": {
      "image/png": "[encoded data removed]",
      "text/plain": [
       "<Figure size 432x288 with 1 Axes>"
      ]
     },
     "metadata": {
      "needs_background": "light"
     },
     "output_type": "display_data"
    }
   ],
   "source": [
    "# Scatter plot of Selling Price and Ex Showroom Price \n",
    "bike_data_drop_na = bike_data.dropna()\n",
    "\n",
    "show_sp_corr, _ = stats.pearsonr(x = bike_data_drop_na.ex_showroom_price, \n",
    "                                 y = bike_data_drop_na.selling_price)\n",
    "\n",
    "bike_data_drop_na.plot.scatter(x = \"ex_showroom_price\", y = \"selling_price\")\n",
    "plt.title(\"Selling Price Vs. Ex Showroom Price\")\n",
    "plt.xlabel(\"Ex Showroom Price\")\n",
    "plt.ylabel(\"Selling Price\")\n",
    "#plt.xticks(ticks = [0, 200000, 400000, 600000, 800000, 1000000, 1200000],\n",
    "           #labels = [\"0\", \"200,000\", \"400,000\", \"600,000\", \"800,000\", \"1,000,000\", \"1,200,000\"])\n",
    "plt.text(1000000, 200000, \"Corr: \" + str(round(show_sp_corr, 2)), fontsize = 14)\n",
    "plt.text(-7000, -185000, \"*Missing values excluded\", fontsize = 8)\n",
    "plt.show()"
   ]
  },
  {
   "cell_type": "markdown",
   "id": "8f479cc4-3c76-4722-8104-bf8f75095800",
   "metadata": {},
   "source": [
    "The linear relationship between *Selling Price* and *Ex Showroom Price* is extremely strong. "
   ]
  },
  {
   "cell_type": "markdown",
   "id": "100a6d00-dae5-458f-ae2f-d85aefe08730",
   "metadata": {},
   "source": [
    "### <center>2.3 Box Plots</center>\n",
    "\n",
    "Box plots of *Selling Price* against the categorical variables *Seller Type* and *Owner*. "
   ]
  },
  {
   "cell_type": "code",
   "execution_count": 13,
   "id": "98958ae7-7ad7-4e7a-bc9a-bb70e1a0fb58",
   "metadata": {},
   "outputs": [
    {
     "data": {
      "image/png": "[encoded data removed]",
      "text/plain": [
       "<Figure size 432x288 with 1 Axes>"
      ]
     },
     "metadata": {
      "needs_background": "light"
     },
     "output_type": "display_data"
    }
   ],
   "source": [
    "# Box plot of Selling Price by Seller Type \n",
    "bike_data.boxplot(column = [\"selling_price\"], \n",
    "                  by = \"seller_type\")\n",
    "plt.suptitle(\"\")\n",
    "plt.title(\"Boxplot of Selling Price by Seller Type\")\n",
    "plt.xlabel(\"Seller Type\")\n",
    "plt.ylabel(\"Selling Price\")\n",
    "plt.show()"
   ]
  },
  {
   "cell_type": "markdown",
   "id": "a8fafea2-31ee-4fcc-8968-4ca71988b749",
   "metadata": {},
   "source": [
    "There are so many outliers that it's difficult to see what's going on. Let's remove them from the plot. "
   ]
  },
  {
   "cell_type": "code",
   "execution_count": 14,
   "id": "b6db00b3-c411-4f1e-8a61-f384cc3c1250",
   "metadata": {},
   "outputs": [
    {
     "data": {
      "image/png": "[encoded data removed]",
      "text/plain": [
       "<Figure size 432x288 with 1 Axes>"
      ]
     },
     "metadata": {
      "needs_background": "light"
     },
     "output_type": "display_data"
    }
   ],
   "source": [
    "bike_data.boxplot(column = \"selling_price\", \n",
    "                  by = \"seller_type\",\n",
    "                  showfliers = False)\n",
    "plt.suptitle(\"\")\n",
    "plt.title(\"Boxplot of Selling Price by Seller Type\")\n",
    "plt.xlabel(\"Seller Type\")\n",
    "plt.ylabel(\"Selling Price\")\n",
    "plt.show()"
   ]
  },
  {
   "cell_type": "markdown",
   "id": "982c8f8a-38a9-4b70-b664-91bccbae9970",
   "metadata": {},
   "source": [
    "It is difficult to draw conclusions because only six bikes in the data set were sold by dealers. "
   ]
  },
  {
   "cell_type": "code",
   "execution_count": 15,
   "id": "365a09ed-0d5c-4a4b-8c55-b63a1297c02c",
   "metadata": {},
   "outputs": [
    {
     "data": {
      "image/png": "[encoded data removed]",
      "text/plain": [
       "<Figure size 432x288 with 1 Axes>"
      ]
     },
     "metadata": {
      "needs_background": "light"
     },
     "output_type": "display_data"
    }
   ],
   "source": [
    "# Boxplot of Selling Price by Owner\n",
    "bike_data.boxplot(column = \"selling_price\", \n",
    "                  by = \"owner\",\n",
    "                  showfliers = False)\n",
    "plt.suptitle(\"\")\n",
    "plt.title(\"Boxplot of Selling Price by Owner\")\n",
    "plt.xlabel(\"Owner\")\n",
    "plt.ylabel(\"Sales Price\")\n",
    "plt.show()"
   ]
  },
  {
   "cell_type": "markdown",
   "id": "622697a3-cd96-4034-85d3-0c5d583b7dcc",
   "metadata": {},
   "source": [
    "### <center>2.4 Contingency Table and Bar Plot</center>\n",
    "\n",
    "Contingency table and bar plot of *Seller Type* by *Owner*. "
   ]
  },
  {
   "cell_type": "code",
   "execution_count": 16,
   "id": "22ede582-107d-4963-898b-ab55442afb8b",
   "metadata": {},
   "outputs": [
    {
     "data": {
      "text/html": [
       "<div>\n",
       "<style scoped>\n",
       "    .dataframe tbody tr th:only-of-type {\n",
       "        vertical-align: middle;\n",
       "    }\n",
       "\n",
       "    .dataframe tbody tr th {\n",
       "        vertical-align: top;\n",
       "    }\n",
       "\n",
       "    .dataframe thead th {\n",
       "        text-align: right;\n",
       "    }\n",
       "</style>\n",
       "<table border=\"1\" class=\"dataframe\">\n",
       "  <thead>\n",
       "    <tr style=\"text-align: right;\">\n",
       "      <th>owner</th>\n",
       "      <th>1st owner</th>\n",
       "      <th>2nd owner</th>\n",
       "      <th>3rd owner</th>\n",
       "      <th>4th owner</th>\n",
       "    </tr>\n",
       "    <tr>\n",
       "      <th>seller_type</th>\n",
       "      <th></th>\n",
       "      <th></th>\n",
       "      <th></th>\n",
       "      <th></th>\n",
       "    </tr>\n",
       "  </thead>\n",
       "  <tbody>\n",
       "    <tr>\n",
       "      <th>Dealer</th>\n",
       "      <td>4</td>\n",
       "      <td>2</td>\n",
       "      <td>0</td>\n",
       "      <td>0</td>\n",
       "    </tr>\n",
       "    <tr>\n",
       "      <th>Individual</th>\n",
       "      <td>920</td>\n",
       "      <td>121</td>\n",
       "      <td>11</td>\n",
       "      <td>3</td>\n",
       "    </tr>\n",
       "  </tbody>\n",
       "</table>\n",
       "</div>"
      ],
      "text/plain": [
       "owner        1st owner  2nd owner  3rd owner  4th owner\n",
       "seller_type                                            \n",
       "Dealer               4          2          0          0\n",
       "Individual         920        121         11          3"
      ]
     },
     "execution_count": 16,
     "metadata": {},
     "output_type": "execute_result"
    }
   ],
   "source": [
    "seller_owner_tab = pd.crosstab(bike_data.seller_type, bike_data.owner)\n",
    "seller_owner_tab"
   ]
  },
  {
   "cell_type": "code",
   "execution_count": 17,
   "id": "ba5f9229-6776-4234-8da8-9e8352140c71",
   "metadata": {},
   "outputs": [
    {
     "data": {
      "image/png": "[encoded data removed]",
      "text/plain": [
       "<Figure size 432x288 with 1 Axes>"
      ]
     },
     "metadata": {
      "needs_background": "light"
     },
     "output_type": "display_data"
    }
   ],
   "source": [
    "seller_owner_tab.plot.bar()\n",
    "plt.title(\"Seller Type by Owner\")\n",
    "plt.xlabel(\"Seller Type\")\n",
    "plt.ylabel(\"Count\")\n",
    "plt.xticks(rotation = 0)\n",
    "plt.show()"
   ]
  },
  {
   "cell_type": "markdown",
   "id": "633e5e86-d88b-4052-bb12-d096f4270cf8",
   "metadata": {
    "tags": []
   },
   "source": [
    "Individual sales by owner are by far the most common type of sale. "
   ]
  },
  {
   "cell_type": "markdown",
   "id": "552e64d3-c9c1-448c-9b80-4e93bf980a50",
   "metadata": {
    "tags": []
   },
   "source": [
    "## <center>Prediction of `selling_price`</center>"
   ]
  },
  {
   "cell_type": "markdown",
   "id": "860f70fe-8e7d-4cd3-8027-56fa9e436279",
   "metadata": {},
   "source": [
    "### Grid Search Algorithm"
   ]
  },
  {
   "cell_type": "code",
   "execution_count": 35,
   "id": "f3d2ddbf-2157-4328-989a-9611c70e2c54",
   "metadata": {},
   "outputs": [],
   "source": [
    "grid = [1000, 10000, 50000, 60000, 70000]"
   ]
  },
  {
   "cell_type": "code",
   "execution_count": 66,
   "id": "99d55a05-9339-4791-915a-a44990bfff0d",
   "metadata": {},
   "outputs": [],
   "source": [
    "def calc_RMSE(y, c):\n",
    "    diff = []\n",
    "    rmse = {}\n",
    "    for val in range(0, len(c)):\n",
    "        diff = (y - c[val])**2\n",
    "        rmse[c[val]] = np.sqrt(sum(diff)/len(y))\n",
    "    return min(zip(rmse.values(), rmse.keys()))"
   ]
  },
  {
   "cell_type": "code",
   "execution_count": 67,
   "id": "190937c0-01a3-4e47-b4d5-f44bb6f30758",
   "metadata": {},
   "outputs": [
    {
     "data": {
      "text/plain": [
       "(56278.9153947081, 60000)"
      ]
     },
     "execution_count": 67,
     "metadata": {},
     "output_type": "execute_result"
    }
   ],
   "source": [
    "calc_RMSE(bike_data.selling_price, grid)"
   ]
  },
  {
   "cell_type": "code",
   "execution_count": 51,
   "id": "9aa45e36-d870-463a-bf3c-8896763ade0f",
   "metadata": {},
   "outputs": [],
   "source": [
    "def search_grid(y, c):\n",
    "    rmse = []  \n",
    "    diff = []\n",
    "    for val in c:\n",
    "        diff[val] = (y - c[val])**2\n",
    "        rmse[val] = np.sqrt(sum(diff)/len(y))\n",
    "    return rmse\n",
    "    "
   ]
  },
  {
   "cell_type": "code",
   "execution_count": null,
   "id": "67526949-6490-481e-b6ac-bc209f547088",
   "metadata": {},
   "outputs": [],
   "source": []
  }
 ],
 "metadata": {
  "kernelspec": {
   "display_name": "Python 3 (ipykernel)",
   "language": "python",
   "name": "python3"
  },
  "language_info": {
   "codemirror_mode": {
    "name": "ipython",
    "version": 3
   },
   "file_extension": ".py",
   "mimetype": "text/x-python",
   "name": "python",
   "nbconvert_exporter": "python",
   "pygments_lexer": "ipython3",
   "version": "3.10.2"
  }
 },
 "nbformat": 4,
 "nbformat_minor": 5
}
